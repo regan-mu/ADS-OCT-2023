{
 "cells": [
  {
   "attachments": {},
   "cell_type": "markdown",
   "id": "e97582e0",
   "metadata": {},
   "source": [
    "# Unsupervised Learning"
   ]
  },
  {
   "attachments": {},
   "cell_type": "markdown",
   "id": "d8165182",
   "metadata": {},
   "source": [
    "## Table of Content \n",
    "\n",
    "### 1 Introduction to Unsupervised Learning\n",
    "\n",
    "* Definition and purpose\n",
    "* Differences between supervised and unsupervised learning\n",
    "* Types of unsupervised learning (clustering, dimensionality reduction, etc.)\n",
    "* Real-world applications\n",
    "\n",
    "\n",
    "### 2 Data Preprocessing\n",
    "\n",
    "* Handling missing data\n",
    "* Feature scaling and normalization\n",
    "* Encoding categorical data\n",
    "\n",
    "### 3 Clustering Algorithms\n",
    "\n",
    "* K-means clustering\n",
    "* Hierarchical clustering\n",
    "* DBSCAN (Density-Based Spatial Clustering of Applications with Noise)\n",
    "* demonstrate examples of K-means clustering  hierarchical clustering and  DBSCAN using data\n",
    "\n",
    "### 4 Assigment "
   ]
  },
  {
   "cell_type": "markdown",
   "id": "bcba6916",
   "metadata": {},
   "source": [
    "## 1 Introduction to Unsupervised Learning\n",
    "\n",
    "### Definition and purpose:\n",
    "    \n",
    "Unsupervised learning is a type of machine learning in which algorithms learn to identify patterns, structures, or relationships within unlabelled data. The primary purpose of unsupervised learning is to uncover hidden structures, groupings, or associations in the data that might not be apparent to human intuition or observation.\n",
    "\n",
    "### Differences between supervised and unsupervised learning:\n",
    "\n",
    "* **Supervised learning**: In supervised learning, the model is trained on a labeled dataset, where both input features and corresponding output labels are provided. The goal is to learn a mapping from input features to output labels, making it easier to predict labels for new, unseen data. Examples of supervised learning tasks include classification and regression.\n",
    "* **Unsupervised learning**: In unsupervised learning, the model is trained on an unlabeled dataset, containing only input features without corresponding output labels. The goal is to identify patterns or structures in the data without any prior knowledge or guidance. This is useful when the data's underlying structure is unknown or difficult to label.\n",
    "\n",
    "### Types of unsupervised learning:\n",
    "\n",
    "* **Clustering**: Clustering is the process of grouping similar data points based on their features or relationships. Common clustering algorithms include K-means, hierarchical clustering, and DBSCAN.\n",
    "* **Dimensionality reduction**: Dimensionality reduction techniques aim to reduce the number of features or dimensions in a dataset while preserving its essential structure or relationships. This is useful for improving computational efficiency, visualization, and noise reduction. Common dimensionality reduction techniques include Principal Component Analysis (PCA) and t-distributed Stochastic Neighbor Embedding (t-SNE).\n",
    "* **Anomaly detection**: Anomaly detection aims to identify data points that deviate significantly from the majority or normal behavior of the dataset. Examples of anomaly detection algorithms include One-Class Support Vector Machines (SVM) and Isolation Forest.\n",
    "* **Association rule learning**: Association rule learning focuses on discovering relationships or associations between features in a dataset. A popular algorithm for association rule learning is the Apriori algorithm.\n",
    "\n",
    "### Real-world applications:\n",
    "* Customer segmentation: \n",
    "\n",
    "\n",
    "Unsupervised learning can be used to group customers based on their purchasing behavior, preferences, or demographic information, helping businesses develop targeted marketing strategies.\n",
    "* Recommender systems:\n",
    "\n",
    "\n",
    "Unsupervised learning algorithms can uncover patterns in user behavior, preferences, or item similarities, which can be used to recommend relevant items or content to users.\n",
    "* Image compression:\n",
    "\n",
    "\n",
    "Dimensionality reduction techniques can be applied to reduce the size of image data while maintaining the essential information, resulting in efficient storage and transmission.\n",
    "* Outlier detection: \n",
    "\n",
    "\n",
    "Anomaly detection algorithms can identify unusual or suspicious activities in various domains, such as fraud detection, network security, and quality control in manufacturing."
   ]
  },
  {
   "cell_type": "markdown",
   "id": "46563922",
   "metadata": {},
   "source": [
    "## 2 Data Preprocessing\n",
    "\n",
    "Data preprocessing is a crucial step in machine learning, as it prepares the raw data for efficient and effective model training. Here are some essential preprocessing techniques:\n",
    "\n",
    "### Handling missing data:\n",
    "\n",
    "Missing data can adversely impact the performance of machine learning algorithms. There are several strategies to deal with missing data:\n",
    "\n",
    "    \n",
    "#### Remove rows with missing values:"
   ]
  },
  {
   "cell_type": "code",
   "execution_count": null,
   "id": "724453ea",
   "metadata": {},
   "outputs": [],
   "source": [
    "import pandas as pd\n",
    "df = pd.read_csv('data.csv')\n",
    "df.dropna(inplace=True)"
   ]
  },
  {
   "cell_type": "markdown",
   "id": "f5bada3f",
   "metadata": {},
   "source": [
    "####  Impute missing values with mean, median, or mode (for numerical data):"
   ]
  },
  {
   "cell_type": "code",
   "execution_count": null,
   "id": "26429d0f",
   "metadata": {},
   "outputs": [],
   "source": [
    "from sklearn.impute import SimpleImputer\n",
    "imputer = SimpleImputer(strategy='mean') # or 'median', 'most_frequent'\n",
    "df[['numerical_feature']] = imputer.fit_transform(df[['numerical_feature']])\n"
   ]
  },
  {
   "cell_type": "markdown",
   "id": "0b714712",
   "metadata": {},
   "source": [
    "#### Impute missing values using more advanced techniques, such as k-NN imputation (for both numerical and categorical data):"
   ]
  },
  {
   "cell_type": "code",
   "execution_count": null,
   "id": "7fb4ec8b",
   "metadata": {},
   "outputs": [],
   "source": [
    "from sklearn.impute import KNNImputer\n",
    "imputer = KNNImputer(n_neighbors=3)\n",
    "df[['numerical_feature']] = imputer.fit_transform(df[['numerical_feature']])"
   ]
  },
  {
   "cell_type": "markdown",
   "id": "7b49fb6b",
   "metadata": {},
   "source": [
    "### Feature scaling and normalization:\n",
    "\n",
    "Feature scaling ensures that all features have the same scale or range, which is important for many unsupervised learning algorithms. Common feature scaling techniques include:"
   ]
  },
  {
   "cell_type": "markdown",
   "id": "7fd7bb6c",
   "metadata": {},
   "source": [
    "#### Min-max scaling (normalization):    This ensures that all the features have a value between 0 and 1."
   ]
  },
  {
   "cell_type": "markdown",
   "id": "9a89e9d2",
   "metadata": {},
   "source": [
    "The idea behind min-max scaling is to rescale the original feature values to a range between 0 and 1. This is done by subtracting the minimum value of the feature and then dividing by the range (the maximum value minus the minimum value). The formula for min-max scaling is:\n",
    "\n",
    "X_normalized = (X - X_min) / (X_max - X_min)\n",
    "\n",
    "\n",
    "Where X is the original feature value, X_min is the minimum value of the feature, and X_max is the maximum value of the feature.\n",
    "\n",
    "The resulting normalized feature values will have a minimum value of 0 and a maximum value of 1, with all other values scaled proportionally in between\n"
   ]
  },
  {
   "cell_type": "code",
   "execution_count": null,
   "id": "a1cf9073",
   "metadata": {},
   "outputs": [],
   "source": [
    "from sklearn.preprocessing import MinMaxScaler\n",
    "scaler = MinMaxScaler()\n",
    "df[['numerical_feature']] = scaler.fit_transform(df[['numerical_feature']])\n"
   ]
  },
  {
   "cell_type": "markdown",
   "id": "0d661799",
   "metadata": {},
   "source": [
    "#### Standardization (mean=0, standard deviation=1):\n",
    "\n",
    "* Standardization is a data preprocessing technique used in machine learning to transform numerical data features into a standard scale with zero mean and unit variance.\n",
    "\n",
    "* The process of standardization involves subtracting the mean of the feature values from each value and then dividing by the standard deviation. This results in a new set of values that have a mean of 0 and a standard deviation of 1.\n",
    "\n",
    "* The formula for standardization is:\n",
    "\n",
    "\n",
    "X_standardized = (X - mean(X)) / std(X)\n",
    "\n",
    "\n",
    "Where X is the original feature value, mean(X) is the mean of the feature, and std(X) is the standard deviation of the feature.\n",
    "\n",
    "\n",
    "For example, suppose we have a dataset with a feature called \"age\" and the mean age is 35 with a standard deviation of 10. To standardize this feature, we would subtract 35 from each age value and then divide by 10. The resulting standardized age values would have a mean of 0 and a standard deviation of 1."
   ]
  },
  {
   "cell_type": "code",
   "execution_count": null,
   "id": "e3091b18",
   "metadata": {},
   "outputs": [],
   "source": [
    "from sklearn.preprocessing import StandardScaler\n",
    "scaler = StandardScaler()\n",
    "df[['numerical_feature']] = scaler.fit_transform(df[['numerical_feature']])\n"
   ]
  },
  {
   "cell_type": "markdown",
   "id": "058cf279",
   "metadata": {},
   "source": [
    "### Encoding categorical data:\n",
    "\n",
    "Categorical data must be converted into numerical values before being used in machine learning algorithms. Common encoding techniques include:"
   ]
  },
  {
   "cell_type": "markdown",
   "id": "0540a6db",
   "metadata": {},
   "source": [
    "#### Label encoding (for ordinal categorical data):"
   ]
  },
  {
   "cell_type": "markdown",
   "id": "3d73ff76",
   "metadata": {},
   "source": [
    "Ordinal data, on the other hand, is data that consists of categories or labels that can be ordered or ranked in a meaningful way. "
   ]
  },
  {
   "cell_type": "code",
   "execution_count": null,
   "id": "1caea8ab",
   "metadata": {},
   "outputs": [],
   "source": [
    "from sklearn.preprocessing import LabelEncoder\n",
    "encoder = LabelEncoder()\n",
    "df['ordinal_categorical_feature'] = encoder.fit_transform(df['ordinal_categorical_feature'])\n"
   ]
  },
  {
   "cell_type": "markdown",
   "id": "3ebacbae",
   "metadata": {},
   "source": [
    "#### One-hot encoding (for nominal categorical data):"
   ]
  },
  {
   "cell_type": "markdown",
   "id": "53cd50c7",
   "metadata": {},
   "source": [
    "Nominal data is data that consists of categories or labels that have no inherent order or ranking"
   ]
  },
  {
   "cell_type": "code",
   "execution_count": null,
   "id": "f4519cf2",
   "metadata": {},
   "outputs": [],
   "source": [
    "import pandas as pd\n",
    "df = pd.get_dummies(df, columns=['nominal_categorical_feature'], drop_first=True)\n"
   ]
  },
  {
   "cell_type": "markdown",
   "id": "74d6ac06",
   "metadata": {},
   "source": [
    "## 3 Clustering Algorithms"
   ]
  },
  {
   "cell_type": "markdown",
   "id": "aadbde57",
   "metadata": {},
   "source": [
    "### K-means clustering:\n",
    "\n",
    "#### Algorithm overview:\n",
    "\n",
    "K-means is a popular clustering algorithm that aims to partition a dataset into K distinct, non-overlapping clusters based on the similarity of data points. The algorithm iteratively refines the cluster centroids until convergence or a maximum number of iterations is reached. The steps are as follows:\n",
    "\n",
    "* Initialize K cluster centroids randomly.\n",
    "* Assign each data point to the nearest centroid.\n",
    "* Update the centroids by computing the mean of all data points in the cluster.\n",
    "* Repeat steps 2 and 3 until convergence or a maximum number of iterations is reached."
   ]
  },
  {
   "cell_type": "markdown",
   "id": "fb977e88",
   "metadata": {},
   "source": [
    "#### Implementation using sklearn.cluster.KMeans:"
   ]
  },
  {
   "cell_type": "code",
   "execution_count": null,
   "id": "438cb030",
   "metadata": {},
   "outputs": [],
   "source": [
    "from sklearn.cluster import KMeans\n",
    "\n",
    "# Initialize the KMeans model with the desired number of clusters\n",
    "kmeans = KMeans(n_clusters=3, random_state=42)\n",
    "\n",
    "# Fit the model to the data\n",
    "kmeans.fit(data)\n",
    "\n",
    "# Get the cluster assignments for each data point\n",
    "cluster_labels = kmeans.labels_"
   ]
  },
  {
   "cell_type": "markdown",
   "id": "50f4480f",
   "metadata": {},
   "source": [
    "#### Evaluating clusters with silhouette score:\n",
    "\n",
    "The silhouette score is a metric that measures the cohesion within clusters and separation between clusters. The score ranges from -1 to 1, with higher values indicating better clustering."
   ]
  },
  {
   "cell_type": "code",
   "execution_count": null,
   "id": "dd96f96a",
   "metadata": {},
   "outputs": [],
   "source": [
    "from sklearn.metrics import silhouette_score\n",
    "\n",
    "# Compute the silhouette score\n",
    "silhouette_avg = silhouette_score(data, cluster_labels)\n",
    "\n",
    "print(\"Silhouette score:\", silhouette_avg)\n"
   ]
  },
  {
   "cell_type": "markdown",
   "id": "b77eacb4",
   "metadata": {},
   "source": [
    "### Hierarchical clustering"
   ]
  },
  {
   "cell_type": "markdown",
   "id": "8a1f619c",
   "metadata": {},
   "source": [
    "#### Algorithm overview (Agglomerative and Divisive):\n",
    "\n",
    "Hierarchical clustering is an approach that builds a hierarchy of clusters either through a bottom-up (agglomerative) or top-down (divisive) process. The main difference between the two is their starting points:\n",
    "\n",
    "* **Agglomerative** : Starts with each data point as a single cluster and successively merges the closest pair of clusters until only one cluster remains.\n",
    "\n",
    "* **Divisive** : Starts with all data points in a single cluster and successively splits the cluster into smaller clusters until each data point forms its own cluster.\n",
    "\n",
    "#### Implementation using sklearn.cluster.AgglomerativeClustering:\n",
    "\n",
    "In scikit-learn, only agglomerative clustering is implemented:"
   ]
  },
  {
   "cell_type": "code",
   "execution_count": null,
   "id": "a1d247de",
   "metadata": {},
   "outputs": [],
   "source": [
    "from sklearn.cluster import AgglomerativeClustering\n",
    "\n",
    "# Initialize the AgglomerativeClustering model with the desired number of clusters\n",
    "agglomerative = AgglomerativeClustering(n_clusters=3)\n",
    "\n",
    "# Fit the model to the data and get the cluster assignments for each data point\n",
    "cluster_labels = agglomerative.fit_predict(data)\n"
   ]
  },
  {
   "cell_type": "markdown",
   "id": "0cb95ede",
   "metadata": {},
   "source": [
    "#### Dendrogram visualization:\n",
    "\n",
    "Visualizing the hierarchy of clusters using a dendrogram can help you determine the optimal number of clusters. You can use the SciPy library to create a dendrogram:"
   ]
  },
  {
   "cell_type": "code",
   "execution_count": null,
   "id": "ef6ed328",
   "metadata": {},
   "outputs": [],
   "source": [
    "import numpy as np\n",
    "from scipy.cluster.hierarchy import dendrogram, linkage\n",
    "import matplotlib.pyplot as plt\n",
    "\n",
    "# Compute the linkage matrix\n",
    "linked = linkage(data, method='ward')\n",
    "\n",
    "# Plot the dendrogram\n",
    "plt.figure(figsize=(10, 7))\n",
    "dendrogram(linked, labels=data.index, distance_sort='descending', truncate_mode='level', p=3)\n",
    "plt.xlabel('Data points')\n",
    "plt.ylabel('Euclidean distances')\n",
    "plt.title('Hierarchical Clustering Dendrogram')\n",
    "plt.show()\n"
   ]
  },
  {
   "cell_type": "markdown",
   "id": "6cbb6bd3",
   "metadata": {},
   "source": [
    "### DBSCAN (Density-Based Spatial Clustering of Applications with Noise)"
   ]
  },
  {
   "cell_type": "markdown",
   "id": "479917ee",
   "metadata": {},
   "source": [
    "#### Algorithm overview:\n",
    "\n",
    "DBSCAN is a density-based clustering algorithm that groups together points that are closely packed based on a density estimation. The algorithm defines a cluster as a dense region of data points separated by areas of lower point density. One of its main advantages is its ability to find arbitrarily shaped clusters and identify noise or outliers.\n",
    "\n",
    "\n",
    "The algorithm works as follows:\n",
    "\n",
    "* For each point, count the number of points within a given radius (epsilon).\n",
    "\n",
    "* If the number of points within the radius is greater than or equal to a specified minimum number of points (min_samples), the point is considered a core point.\n",
    "\n",
    "* Cluster formation starts by connecting core points that are close to each other (within the epsilon radius). All points that are reachable from a core point also belong to the cluster.\n",
    "\n",
    "* Points that are not part of any cluster are treated as noise.\n",
    "\n",
    "#### Implementation using sklearn.cluster.DBSCAN:"
   ]
  },
  {
   "cell_type": "code",
   "execution_count": null,
   "id": "2cafef4d",
   "metadata": {},
   "outputs": [],
   "source": [
    "from sklearn.cluster import DBSCAN\n",
    "\n",
    "# Initialize the DBSCAN model with the desired parameters\n",
    "dbscan = DBSCAN(eps=0.5, min_samples=5)\n",
    "\n",
    "# Fit the model to the data and get the cluster assignments for each data point\n",
    "cluster_labels = dbscan.fit_predict(data)\n"
   ]
  },
  {
   "cell_type": "markdown",
   "id": "6f9c9c08",
   "metadata": {},
   "source": [
    "#### Dealing with noise and outliers:\n",
    "\n",
    "DBSCAN is capable of identifying noise and outliers as part of the clustering process. Points that are not assigned to any cluster are considered noise. In the cluster_labels array, noise points are assigned a label of -1.\n",
    "To handle noise points or outliers, you can either remove them from the dataset or analyze them separately, depending on the application and goals of your analysis."
   ]
  },
  {
   "cell_type": "code",
   "execution_count": null,
   "id": "245bc98f",
   "metadata": {},
   "outputs": [],
   "source": [
    "import numpy as np\n",
    "\n",
    "# Identify noise points\n",
    "noise_points = data[cluster_labels == -1]\n",
    "\n",
    "# Remove noise points from the dataset (optional)\n",
    "data_without_noise = data[cluster_labels != -1]\n",
    "cluster_labels_without_noise = cluster_labels[cluster_labels != -1]\n"
   ]
  },
  {
   "cell_type": "code",
   "execution_count": null,
   "id": "981ecd74",
   "metadata": {},
   "outputs": [],
   "source": []
  },
  {
   "cell_type": "markdown",
   "id": "dfadf4df",
   "metadata": {},
   "source": [
    "### demonstrate examples of K-means clustering and hierarchical clustering using data"
   ]
  },
  {
   "cell_type": "markdown",
   "id": "1388e83c",
   "metadata": {},
   "source": [
    "#### Use the famous Iris dataset to demonstrate examples of K-means clustering and hierarchical clustering.\n",
    "\n",
    "\n",
    "The Iris dataset contains 150 samples of iris flowers with 4 features: sepal length, sepal width, petal length, and petal width. There are three species of iris flowers in the dataset."
   ]
  },
  {
   "cell_type": "markdown",
   "id": "4a934b4e",
   "metadata": {},
   "source": [
    "####  Load and preprocess the Iris dataset:"
   ]
  },
  {
   "cell_type": "code",
   "execution_count": 2,
   "id": "1478825a",
   "metadata": {},
   "outputs": [],
   "source": [
    "import pandas as pd\n",
    "from sklearn.datasets import load_iris\n",
    "from sklearn.preprocessing import StandardScaler\n",
    "\n",
    "iris_data = load_iris()\n",
    "data = iris_data.data\n",
    "target = iris_data.target\n",
    "\n",
    "# Standardize the features\n",
    "scaler = StandardScaler()\n",
    "data = scaler.fit_transform(data)\n"
   ]
  },
  {
   "cell_type": "markdown",
   "id": "9eab880f",
   "metadata": {},
   "source": [
    "#### K-means clustering example:"
   ]
  },
  {
   "cell_type": "code",
   "execution_count": 3,
   "id": "e07c45dd",
   "metadata": {},
   "outputs": [
    {
     "name": "stdout",
     "output_type": "stream",
     "text": [
      "Silhouette score for K-means clustering: 0.45994823920518635\n"
     ]
    }
   ],
   "source": [
    "from sklearn.cluster import KMeans\n",
    "from sklearn.metrics import silhouette_score\n",
    "\n",
    "# Initialize the KMeans model with the desired number of clusters\n",
    "kmeans = KMeans(n_clusters=3, random_state=42)\n",
    "\n",
    "# Fit the model to the data\n",
    "kmeans.fit(data)\n",
    "\n",
    "# Get the cluster assignments for each data point\n",
    "cluster_labels = kmeans.labels_\n",
    "\n",
    "# Compute the silhouette score\n",
    "silhouette_avg = silhouette_score(data, cluster_labels)\n",
    "print(\"Silhouette score for K-means clustering:\", silhouette_avg)\n"
   ]
  },
  {
   "cell_type": "markdown",
   "id": "78d53e2e",
   "metadata": {},
   "source": [
    "The Silhouette score ranges from -1 to 1, with higher values indicating better clustering results. A score of 0 indicates that the object is on the boundary between two clusters and could be assigned to either. A negative score indicates that the object is more similar to neighboring clusters than its own, suggesting that the clustering algorithm did not perform well.\n",
    "\n",
    "\n",
    "In your case, the Silhouette score for the K-means clustering algorithm is 0.45994823920518635, which is a moderately good score. It indicates that the objects in the clusters are relatively well-separated and are more similar to their own cluster than to neighboring clusters."
   ]
  },
  {
   "cell_type": "markdown",
   "id": "1fc8fdcc",
   "metadata": {},
   "source": [
    "#### Hierarchical clustering (Agglomerative) example:"
   ]
  },
  {
   "cell_type": "code",
   "execution_count": 4,
   "id": "37b647d1",
   "metadata": {},
   "outputs": [
    {
     "name": "stdout",
     "output_type": "stream",
     "text": [
      "Silhouette score for Hierarchical clustering: 0.4466890410285909\n"
     ]
    }
   ],
   "source": [
    "from sklearn.cluster import AgglomerativeClustering\n",
    "\n",
    "# Initialize the AgglomerativeClustering model with the desired number of clusters\n",
    "agglomerative = AgglomerativeClustering(n_clusters=3)\n",
    "\n",
    "# Fit the model to the data and get the cluster assignments for each data point\n",
    "cluster_labels = agglomerative.fit_predict(data)\n",
    "\n",
    "# Compute the silhouette score\n",
    "silhouette_avg = silhouette_score(data, cluster_labels)\n",
    "print(\"Silhouette score for Hierarchical clustering:\", silhouette_avg)\n"
   ]
  },
  {
   "cell_type": "markdown",
   "id": "40475ab0",
   "metadata": {},
   "source": [
    "#### Dendrogram visualization for hierarchical clustering:"
   ]
  },
  {
   "cell_type": "code",
   "execution_count": 8,
   "id": "e0f6e2a4",
   "metadata": {},
   "outputs": [
    {
     "data": {
      "image/png": "[encoded data removed]",
      "text/plain": [
       "<Figure size 1000x700 with 1 Axes>"
      ]
     },
     "metadata": {},
     "output_type": "display_data"
    }
   ],
   "source": [
    "import numpy as np\n",
    "from scipy.cluster.hierarchy import dendrogram, linkage\n",
    "import matplotlib.pyplot as plt\n",
    "\n",
    "# Compute the linkage matrix\n",
    "# function computes the linkage matrix using the Ward method as the criterion for merging clusters. The Ward method seeks to minimize the total within-cluster variance at each step.\n",
    "linked = linkage(data, method='ward')\n",
    "\n",
    "# Plot the dendrogram\n",
    "plt.figure(figsize=(10, 7))\n",
    "dendrogram(linked, labels=np.array(iris_data.target_names)[target], distance_sort='descending', truncate_mode='level', p=2)\n",
    "plt.xlabel('Data points')\n",
    "plt.ylabel('Euclidean distances')\n",
    "plt.title('Hierarchical Clustering Dendrogram')\n",
    "plt.show()\n"
   ]
  },
  {
   "cell_type": "markdown",
   "id": "4c95968d",
   "metadata": {},
   "source": [
    "By analyzing the dendrogram, you can determine an appropriate threshold for cutting the tree to obtain the desired number of clusters. To do this, you can draw a horizontal line at a specific height (Euclidean distance) on the y-axis, and the number of vertical lines it intersects corresponds to the number of clusters formed."
   ]
  },
  {
   "cell_type": "markdown",
   "id": "45355a57",
   "metadata": {},
   "source": [
    "### demonstrate DBSCAN with real data, let's use the UCI ML Wine recognition dataset"
   ]
  },
  {
   "cell_type": "markdown",
   "id": "540f88c6",
   "metadata": {},
   "source": [
    "To demonstrate DBSCAN with real data, let's use the UCI ML Wine recognition dataset, which contains chemical analyses of wines grown in the same region in Italy but derived from three different cultivars. The dataset has 13 features and 178 samples. We will apply DBSCAN to cluster the wines based on their chemical composition."
   ]
  },
  {
   "cell_type": "markdown",
   "id": "0e62e7f7",
   "metadata": {},
   "source": [
    "#### Load and preprocess the Wine dataset:"
   ]
  },
  {
   "cell_type": "code",
   "execution_count": 9,
   "id": "bde0ad2b",
   "metadata": {},
   "outputs": [],
   "source": [
    "import pandas as pd\n",
    "from sklearn.datasets import load_wine\n",
    "from sklearn.preprocessing import StandardScaler\n",
    "\n",
    "wine_data = load_wine()\n",
    "data = wine_data.data\n",
    "target = wine_data.target\n",
    "\n",
    "# Standardize the features\n",
    "scaler = StandardScaler()\n",
    "data = scaler.fit_transform(data)\n"
   ]
  },
  {
   "cell_type": "markdown",
   "id": "9b0b2dd9",
   "metadata": {},
   "source": [
    "#### DBSCAN clustering example:"
   ]
  },
  {
   "cell_type": "code",
   "execution_count": 10,
   "id": "713fdd69",
   "metadata": {},
   "outputs": [
    {
     "name": "stdout",
     "output_type": "stream",
     "text": [
      "Silhouette score for DBSCAN clustering: 0.34801201341316823\n"
     ]
    }
   ],
   "source": [
    "from sklearn.cluster import DBSCAN\n",
    "from sklearn.metrics import silhouette_score\n",
    "\n",
    "# Initialize the DBSCAN model with the desired parameters\n",
    "dbscan = DBSCAN(eps=2.2, min_samples=5)\n",
    "\n",
    "# Fit the model to the data and get the cluster assignments for each data point\n",
    "cluster_labels = dbscan.fit_predict(data)\n",
    "\n",
    "# Compute the silhouette score (excluding noise points)\n",
    "silhouette_avg = silhouette_score(data[cluster_labels != -1], cluster_labels[cluster_labels != -1])\n",
    "print(\"Silhouette score for DBSCAN clustering:\", silhouette_avg)\n"
   ]
  },
  {
   "cell_type": "markdown",
   "id": "09bb9ba4",
   "metadata": {},
   "source": [
    "#### Dealing with noise and outliers:"
   ]
  },
  {
   "cell_type": "code",
   "execution_count": 13,
   "id": "931f76cf",
   "metadata": {},
   "outputs": [],
   "source": [
    "import numpy as np\n",
    "\n",
    "# Identify noise points\n",
    "noise_points = data[cluster_labels == -1]\n",
    "\n",
    "# Remove noise points from the dataset (optional)\n",
    "data_without_noise = data[cluster_labels != -1]\n",
    "cluster_labels_without_noise = cluster_labels[cluster_labels != -1]\n"
   ]
  },
  {
   "cell_type": "code",
   "execution_count": null,
   "id": "948cbf20",
   "metadata": {},
   "outputs": [],
   "source": []
  },
  {
   "cell_type": "markdown",
   "id": "8a7de714",
   "metadata": {},
   "source": [
    "In this example, we used the Wine dataset to demonstrate the DBSCAN clustering algorithm. The silhouette score can help you evaluate the quality of the clustering. You can adjust the epsilon (eps) and minimum number of points (min_samples) parameters to obtain better clustering results. The noise points can be analyzed separately or removed from the dataset, depending on your requirements."
   ]
  },
  {
   "cell_type": "markdown",
   "id": "b7509cf8",
   "metadata": {},
   "source": []
  },
  {
   "cell_type": "markdown",
   "id": "36559a16",
   "metadata": {},
   "source": [
    "# Assignment"
   ]
  },
  {
   "cell_type": "markdown",
   "id": "36a8ae37",
   "metadata": {},
   "source": [
    "## 4 Assignment: Unsupervised Learning for Credit Card Customer Segmentation\n",
    "\n",
    "### Objective:\n",
    "Apply unsupervised learning techniques to perform customer segmentation on a credit card dataset, and analyze the results to gain insights into the customer base. Use the K-means clustering algorithm for customer segmentation and visualize the results.\n",
    "\n",
    "### Dataset:\n",
    "\n",
    "Use the \"Credit Card Dataset for Clustering\" available on Kaggle. You can download the dataset from this link: https://www.kaggle.com/arjunbhasin2013/ccdata"
   ]
  },
  {
   "cell_type": "markdown",
   "id": "4610c002",
   "metadata": {},
   "source": [
    "###  Steps:\n",
    "\n",
    "1) Load and preprocess the dataset:\n",
    "\n",
    "* Import necessary libraries\n",
    "* Load the dataset\n",
    "* Drop unnecessary columns or handle missing data, if any Perform feature scaling and normalization\n",
    "\n"
   ]
  },
  {
   "cell_type": "markdown",
   "id": "8b9514ff",
   "metadata": {},
   "source": [
    "2) Apply the K-means clustering algorithm for customer segmentation:\n",
    "\n",
    "* Determine the optimal number of clusters using the elbow method or silhouette score\n",
    "* Initialize the KMeans model with the desired number of clusters\n",
    "* Fit the model to the data and make predictions\n",
    "* Visualize and analyze the results:\n",
    "\n",
    "3) Visualize the clusters using one or more pairs of features\n",
    "* Analyze the characteristics of each cluster to gain insights into the customer base\n",
    "* Discuss the implications of the findings for the business, such as targeted marketing strategies"
   ]
  },
  {
   "cell_type": "markdown",
   "id": "3d86813a",
   "metadata": {},
   "source": [
    "# Solution for the assignment on Unsupervised Learning for Credit Card Customer"
   ]
  },
  {
   "cell_type": "code",
   "execution_count": 60,
   "id": "11dc3341",
   "metadata": {},
   "outputs": [],
   "source": [
    "import pandas as pd\n",
    "from sklearn.preprocessing import StandardScaler\n",
    "\n",
    "# Load the dataset\n",
    "data = pd.read_csv(\"data/CC GENERAL.csv\")\n",
    "\n",
    "# Drop the CUST_ID column and handle missing data\n",
    "data = data.drop(\"CUST_ID\", axis=1)\n",
    "data = data.fillna(data.median())\n",
    "\n",
    "# Feature scaling and normalization\n",
    "scaler = StandardScaler()\n",
    "data_scaled = scaler.fit_transform(data)"
   ]
  },
  {
   "cell_type": "code",
   "execution_count": 62,
   "id": "db32b17a",
   "metadata": {},
   "outputs": [
    {
     "data": {
      "text/html": [
       "<div>\n",
       "<style scoped>\n",
       "    .dataframe tbody tr th:only-of-type {\n",
       "        vertical-align: middle;\n",
       "    }\n",
       "\n",
       "    .dataframe tbody tr th {\n",
       "        vertical-align: top;\n",
       "    }\n",
       "\n",
       "    .dataframe thead th {\n",
       "        text-align: right;\n",
       "    }\n",
       "</style>\n",
       "<table border=\"1\" class=\"dataframe\">\n",
       "  <thead>\n",
       "    <tr style=\"text-align: right;\">\n",
       "      <th></th>\n",
       "      <th>BALANCE</th>\n",
       "      <th>BALANCE_FREQUENCY</th>\n",
       "      <th>PURCHASES</th>\n",
       "      <th>ONEOFF_PURCHASES</th>\n",
       "      <th>INSTALLMENTS_PURCHASES</th>\n",
       "      <th>CASH_ADVANCE</th>\n",
       "      <th>PURCHASES_FREQUENCY</th>\n",
       "      <th>ONEOFF_PURCHASES_FREQUENCY</th>\n",
       "      <th>PURCHASES_INSTALLMENTS_FREQUENCY</th>\n",
       "      <th>CASH_ADVANCE_FREQUENCY</th>\n",
       "      <th>CASH_ADVANCE_TRX</th>\n",
       "      <th>PURCHASES_TRX</th>\n",
       "      <th>CREDIT_LIMIT</th>\n",
       "      <th>PAYMENTS</th>\n",
       "      <th>MINIMUM_PAYMENTS</th>\n",
       "      <th>PRC_FULL_PAYMENT</th>\n",
       "      <th>TENURE</th>\n",
       "    </tr>\n",
       "  </thead>\n",
       "  <tbody>\n",
       "    <tr>\n",
       "      <th>0</th>\n",
       "      <td>40.900749</td>\n",
       "      <td>0.818182</td>\n",
       "      <td>95.40</td>\n",
       "      <td>0.00</td>\n",
       "      <td>95.4</td>\n",
       "      <td>0.000000</td>\n",
       "      <td>0.166667</td>\n",
       "      <td>0.000000</td>\n",
       "      <td>0.083333</td>\n",
       "      <td>0.000000</td>\n",
       "      <td>0</td>\n",
       "      <td>2</td>\n",
       "      <td>1000.0</td>\n",
       "      <td>201.802084</td>\n",
       "      <td>139.509787</td>\n",
       "      <td>0.000000</td>\n",
       "      <td>12</td>\n",
       "    </tr>\n",
       "    <tr>\n",
       "      <th>1</th>\n",
       "      <td>3202.467416</td>\n",
       "      <td>0.909091</td>\n",
       "      <td>0.00</td>\n",
       "      <td>0.00</td>\n",
       "      <td>0.0</td>\n",
       "      <td>6442.945483</td>\n",
       "      <td>0.000000</td>\n",
       "      <td>0.000000</td>\n",
       "      <td>0.000000</td>\n",
       "      <td>0.250000</td>\n",
       "      <td>4</td>\n",
       "      <td>0</td>\n",
       "      <td>7000.0</td>\n",
       "      <td>4103.032597</td>\n",
       "      <td>1072.340217</td>\n",
       "      <td>0.222222</td>\n",
       "      <td>12</td>\n",
       "    </tr>\n",
       "    <tr>\n",
       "      <th>2</th>\n",
       "      <td>2495.148862</td>\n",
       "      <td>1.000000</td>\n",
       "      <td>773.17</td>\n",
       "      <td>773.17</td>\n",
       "      <td>0.0</td>\n",
       "      <td>0.000000</td>\n",
       "      <td>1.000000</td>\n",
       "      <td>1.000000</td>\n",
       "      <td>0.000000</td>\n",
       "      <td>0.000000</td>\n",
       "      <td>0</td>\n",
       "      <td>12</td>\n",
       "      <td>7500.0</td>\n",
       "      <td>622.066742</td>\n",
       "      <td>627.284787</td>\n",
       "      <td>0.000000</td>\n",
       "      <td>12</td>\n",
       "    </tr>\n",
       "    <tr>\n",
       "      <th>3</th>\n",
       "      <td>1666.670542</td>\n",
       "      <td>0.636364</td>\n",
       "      <td>1499.00</td>\n",
       "      <td>1499.00</td>\n",
       "      <td>0.0</td>\n",
       "      <td>205.788017</td>\n",
       "      <td>0.083333</td>\n",
       "      <td>0.083333</td>\n",
       "      <td>0.000000</td>\n",
       "      <td>0.083333</td>\n",
       "      <td>1</td>\n",
       "      <td>1</td>\n",
       "      <td>7500.0</td>\n",
       "      <td>0.000000</td>\n",
       "      <td>312.343947</td>\n",
       "      <td>0.000000</td>\n",
       "      <td>12</td>\n",
       "    </tr>\n",
       "    <tr>\n",
       "      <th>4</th>\n",
       "      <td>817.714335</td>\n",
       "      <td>1.000000</td>\n",
       "      <td>16.00</td>\n",
       "      <td>16.00</td>\n",
       "      <td>0.0</td>\n",
       "      <td>0.000000</td>\n",
       "      <td>0.083333</td>\n",
       "      <td>0.083333</td>\n",
       "      <td>0.000000</td>\n",
       "      <td>0.000000</td>\n",
       "      <td>0</td>\n",
       "      <td>1</td>\n",
       "      <td>1200.0</td>\n",
       "      <td>678.334763</td>\n",
       "      <td>244.791237</td>\n",
       "      <td>0.000000</td>\n",
       "      <td>12</td>\n",
       "    </tr>\n",
       "  </tbody>\n",
       "</table>\n",
       "</div>"
      ],
      "text/plain": [
       "       BALANCE  BALANCE_FREQUENCY  PURCHASES  ONEOFF_PURCHASES  \\\n",
       "0    40.900749           0.818182      95.40              0.00   \n",
       "1  3202.467416           0.909091       0.00              0.00   \n",
       "2  2495.148862           1.000000     773.17            773.17   \n",
       "3  1666.670542           0.636364    1499.00           1499.00   \n",
       "4   817.714335           1.000000      16.00             16.00   \n",
       "\n",
       "   INSTALLMENTS_PURCHASES  CASH_ADVANCE  PURCHASES_FREQUENCY  \\\n",
       "0                    95.4      0.000000             0.166667   \n",
       "1                     0.0   6442.945483             0.000000   \n",
       "2                     0.0      0.000000             1.000000   \n",
       "3                     0.0    205.788017             0.083333   \n",
       "4                     0.0      0.000000             0.083333   \n",
       "\n",
       "   ONEOFF_PURCHASES_FREQUENCY  PURCHASES_INSTALLMENTS_FREQUENCY  \\\n",
       "0                    0.000000                          0.083333   \n",
       "1                    0.000000                          0.000000   \n",
       "2                    1.000000                          0.000000   \n",
       "3                    0.083333                          0.000000   \n",
       "4                    0.083333                          0.000000   \n",
       "\n",
       "   CASH_ADVANCE_FREQUENCY  CASH_ADVANCE_TRX  PURCHASES_TRX  CREDIT_LIMIT  \\\n",
       "0                0.000000                 0              2        1000.0   \n",
       "1                0.250000                 4              0        7000.0   \n",
       "2                0.000000                 0             12        7500.0   \n",
       "3                0.083333                 1              1        7500.0   \n",
       "4                0.000000                 0              1        1200.0   \n",
       "\n",
       "      PAYMENTS  MINIMUM_PAYMENTS  PRC_FULL_PAYMENT  TENURE  \n",
       "0   201.802084        139.509787          0.000000      12  \n",
       "1  4103.032597       1072.340217          0.222222      12  \n",
       "2   622.066742        627.284787          0.000000      12  \n",
       "3     0.000000        312.343947          0.000000      12  \n",
       "4   678.334763        244.791237          0.000000      12  "
      ]
     },
     "execution_count": 62,
     "metadata": {},
     "output_type": "execute_result"
    }
   ],
   "source": [
    "data.head()"
   ]
  },
  {
   "cell_type": "code",
   "execution_count": 63,
   "id": "9636734c",
   "metadata": {},
   "outputs": [
    {
     "data": {
      "image/png": "[encoded data removed]",
      "text/plain": [
       "<Figure size 640x480 with 1 Axes>"
      ]
     },
     "metadata": {},
     "output_type": "display_data"
    }
   ],
   "source": [
    "import matplotlib.pyplot as plt\n",
    "from sklearn.cluster import KMeans\n",
    "\n",
    "# Determine the optimal number of clusters using the elbow method\n",
    "wcss = []\n",
    "for i in range(1, 11):\n",
    "    kmeans = KMeans(n_clusters=i, init=\"k-means++\", random_state=42)\n",
    "    kmeans.fit(data_scaled)\n",
    "    wcss.append(kmeans.inertia_)\n",
    "\n",
    "plt.plot(range(1, 11), wcss)\n",
    "plt.title(\"Elbow Method\")\n",
    "plt.xlabel(\"Number of Clusters\")\n",
    "plt.ylabel(\"WCSS\")\n",
    "plt.show()\n",
    "\n",
    "# Apply K-means clustering with the optimal number of clusters (k=4)\n",
    "k = 4\n",
    "kmeans = KMeans(n_clusters=k, init=\"k-means++\", random_state=42)\n",
    "clusters = kmeans.fit_predict(data_scaled)\n"
   ]
  },
  {
   "cell_type": "code",
   "execution_count": 64,
   "id": "8b79f067",
   "metadata": {},
   "outputs": [
    {
     "name": "stderr",
     "output_type": "stream",
     "text": [
      "C:\\Users\\John\\anaconda3\\lib\\site-packages\\seaborn\\rcmod.py:82: DeprecationWarning: distutils Version classes are deprecated. Use packaging.version instead.\n",
      "  if LooseVersion(mpl.__version__) >= \"3.0\":\n",
      "C:\\Users\\John\\anaconda3\\lib\\site-packages\\setuptools\\_distutils\\version.py:346: DeprecationWarning: distutils Version classes are deprecated. Use packaging.version instead.\n",
      "  other = LooseVersion(other)\n",
      "C:\\Users\\John\\anaconda3\\lib\\site-packages\\seaborn\\axisgrid.py:130: DeprecationWarning: distutils Version classes are deprecated. Use packaging.version instead.\n",
      "  if LooseVersion(mpl.__version__) < LooseVersion(\"3.0\"):\n",
      "C:\\Users\\John\\anaconda3\\lib\\site-packages\\seaborn\\axisgrid.py:130: DeprecationWarning: distutils Version classes are deprecated. Use packaging.version instead.\n",
      "  if LooseVersion(mpl.__version__) < LooseVersion(\"3.0\"):\n"
     ]
    },
    {
     "data": {
      "image/png": "[encoded data removed]",
      "text/plain": [
       "<Figure size 560.361x500 with 6 Axes>"
      ]
     },
     "metadata": {},
     "output_type": "display_data"
    },
    {
     "name": "stdout",
     "output_type": "stream",
     "text": [
      "             BALANCE  BALANCE_FREQUENCY    PURCHASES  ONEOFF_PURCHASES  \\\n",
      "Cluster                                                                  \n",
      "0         894.907458           0.934734  1236.178934        593.974874   \n",
      "1        4602.449658           0.968389   501.862982        320.188797   \n",
      "2        1012.658327           0.789924   270.041785        209.937299   \n",
      "3        3551.153761           0.986879  7681.620098       5095.878826   \n",
      "\n",
      "         INSTALLMENTS_PURCHASES  CASH_ADVANCE  PURCHASES_FREQUENCY  \\\n",
      "Cluster                                                              \n",
      "0                    642.478274    210.570626             0.885165   \n",
      "1                    181.759123   4521.509581             0.287832   \n",
      "2                     60.371441    596.509903             0.170145   \n",
      "3                   2587.208264    653.638891             0.946418   \n",
      "\n",
      "         ONEOFF_PURCHASES_FREQUENCY  PURCHASES_INSTALLMENTS_FREQUENCY  \\\n",
      "Cluster                                                                 \n",
      "0                          0.297070                          0.711842   \n",
      "1                          0.138911                          0.185671   \n",
      "2                          0.086301                          0.080558   \n",
      "3                          0.739031                          0.788060   \n",
      "\n",
      "         CASH_ADVANCE_FREQUENCY  CASH_ADVANCE_TRX  PURCHASES_TRX  \\\n",
      "Cluster                                                            \n",
      "0                      0.042573          0.790021      22.091773   \n",
      "1                      0.484792         14.294904       7.665831   \n",
      "2                      0.114846          2.125471       2.903193   \n",
      "3                      0.071290          2.085575      89.359413   \n",
      "\n",
      "         CREDIT_LIMIT     PAYMENTS  MINIMUM_PAYMENTS  PRC_FULL_PAYMENT  \\\n",
      "Cluster                                                                  \n",
      "0         4213.207678  1332.194205        639.677258          0.269258   \n",
      "1         7546.160857  3484.054216       2003.674460          0.034888   \n",
      "2         3278.640516   974.260054        553.900449          0.077981   \n",
      "3         9696.943765  7288.739497       1972.767288          0.286707   \n",
      "\n",
      "            TENURE  \n",
      "Cluster             \n",
      "0        11.594595  \n",
      "1        11.386800  \n",
      "2        11.446568  \n",
      "3        11.951100  \n"
     ]
    }
   ],
   "source": [
    "import seaborn as sns\n",
    "\n",
    "# Add the cluster labels to the original dataset\n",
    "data[\"Cluster\"] = clusters\n",
    "\n",
    "# Visualize the clusters using a pairplot with two selected features (e.g., BALANCE and PURCHASES)\n",
    "sns.pairplot(data, vars=[\"BALANCE\", \"PURCHASES\"], hue=\"Cluster\")\n",
    "plt.show()\n",
    "\n",
    "# Analyze the characteristics of each cluster\n",
    "cluster_summary = data.groupby(\"Cluster\").mean()\n",
    "print(cluster_summary)\n"
   ]
  },
  {
   "cell_type": "markdown",
   "id": "37c4652a",
   "metadata": {},
   "source": [
    "In this assignment, we used the K-means clustering algorithm to perform customer segmentation on a credit card dataset. We determined the optimal number of clusters using the elbow method and visualized the clusters using a pairplot with two selected features. By analyzing the characteristics of each cluster, we can gain insights into the customer base and design targeted marketing strategies accordingly."
   ]
  },
  {
   "cell_type": "code",
   "execution_count": null,
   "id": "8b802245",
   "metadata": {},
   "outputs": [],
   "source": []
  }
 ],
 "metadata": {
  "kernelspec": {
   "display_name": "Python 3 (ipykernel)",
   "language": "python",
   "name": "python3"
  },
  "language_info": {
   "codemirror_mode": {
    "name": "ipython",
    "version": 3
   },
   "file_extension": ".py",
   "mimetype": "text/x-python",
   "name": "python",
   "nbconvert_exporter": "python",
   "pygments_lexer": "ipython3",
   "version": "3.9.13"
  }
 },
 "nbformat": 4,
 "nbformat_minor": 5
}
