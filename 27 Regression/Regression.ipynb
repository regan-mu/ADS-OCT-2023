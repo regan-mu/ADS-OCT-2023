{
 "cells": [
  {
   "cell_type": "markdown",
   "id": "244005c2",
   "metadata": {},
   "source": [
    "# Regression techniques "
   ]
  },
  {
   "cell_type": "markdown",
   "id": "bda8e535",
   "metadata": {},
   "source": [
    "## Table of Content \n",
    "\n",
    "### 1 Introduction to Regression:\n",
    "\n",
    "* Understand the concept of regression in machine learning\n",
    "* Differentiate between classification and regression tasks\n",
    "\n",
    "### 2 Simple Linear Regression:\n",
    "\n",
    "* Understand the concept of simple linear regression\n",
    "* Implement simple linear regression using scikit-learn\n",
    "* Evaluate the performance of a simple linear regression model\n",
    "\n",
    "### 3 Multiple Linear Regression:\n",
    "\n",
    "* Understand the concept of multiple linear regression\n",
    "* Implement multiple linear regression using scikit-learn\n",
    "* Evaluate the performance of a multiple linear regression model\n",
    "\n",
    "### 4  Model Evaluation Metrics for Regression:\n",
    "\n",
    "* Learn about various evaluation metrics such as Mean Absolute Error (MAE), Mean Squared Error (MSE), and Root Mean Squared Error (RMSE)\n",
    "* Understand the concept of R-squared and Adjusted R-squared\n",
    "\n",
    "### 5  Model Selection and Hyperparameter Tuning:\n",
    "\n",
    "* Learn how to split datasets into training, validation, and testing sets\n",
    "* Understand the concept of cross-validation.\n",
    "* Implement model selection and hyperparameter tuning using scikit-learn \n"
   ]
  },
  {
   "cell_type": "markdown",
   "id": "cdda3cc4",
   "metadata": {},
   "source": [
    "## 1 Introduction to Regression:\n",
    "\n",
    "Regression is a supervised learning technique in machine learning that focuses on predicting continuous numerical outcomes based on input features. The main objective of regression is to establish a relationship between the independent variables (input features) and the dependent variable (output)."
   ]
  },
  {
   "cell_type": "markdown",
   "id": "9b1b4782",
   "metadata": {},
   "source": [
    "### Understand the concept of regression in machine learning:\n",
    "\n",
    "In regression, we attempt to fit a model that best represents the relationship between the dependent and independent variables. This model is then used to make predictions on new, unseen data. Linear regression is a common type of regression where the relationship between the variables is modeled as a straight line.\n",
    "\n",
    "\n",
    "Examples of regression problems include predicting housing prices, estimating stock prices, or forecasting product sales."
   ]
  },
  {
   "cell_type": "markdown",
   "id": "26ab630d",
   "metadata": {},
   "source": [
    "### Differentiate between classification and regression tasks:\n",
    "\n",
    "While both classification and regression are types of supervised learning, they have different goals:\n",
    "\n",
    "* **Classification**: \n",
    "    The objective is to predict a category or class label for a given input. Examples include spam detection, image recognition, and medical diagnosis. Classification models predict discrete outcomes.\n",
    "\n",
    "    \n",
    "* **Regression**: \n",
    "    The objective is to predict a continuous numerical value for a given input. Examples include predicting housing prices, estimating stock prices, and forecasting product sales. Regression models predict continuous outcomes."
   ]
  },
  {
   "cell_type": "markdown",
   "id": "ee1084a2",
   "metadata": {},
   "source": [
    "In summary, regression is a supervised learning technique used to predict continuous numerical outcomes, while classification focuses on predicting discrete categorical outcomes. Both techniques play a crucial role in machine learning and can be applied to various real-world problems depending on the nature of the data and the desired output."
   ]
  },
  {
   "cell_type": "markdown",
   "id": "abd01975",
   "metadata": {},
   "source": [
    "## 2 Simple Linear Regression:"
   ]
  },
  {
   "cell_type": "markdown",
   "id": "f46e86de",
   "metadata": {},
   "source": [
    "* Simple linear regression is a basic regression technique that models the linear relationship between a single independent variable (input feature) and a dependent variable (output) as a straight line. \n",
    "* The goal is to find the best-fitting line that minimizes the error between predicted and actual values."
   ]
  },
  {
   "cell_type": "markdown",
   "id": "508ea344",
   "metadata": {},
   "source": [
    "### Understand the concept of simple linear regression:\n",
    "    \n",
    "    \n",
    "The equation for simple linear regression is:\n",
    "    \n",
    "    \n",
    "\n",
    "y = b0 + b1 * x + ε\n",
    "\n",
    "\n",
    "where:\n",
    "\n",
    "* y - the dependent variable (output).\n",
    "* x - the independent variable (input feature).\n",
    "* b0 - the y-intercept.\n",
    "* b1 - the slope of the line.\n",
    "* ε - Error term."
   ]
  },
  {
   "cell_type": "markdown",
   "id": "6f57e848",
   "metadata": {},
   "source": [
    "* The objective is to find the optimal values for b0 and b1 that minimize the error between the predicted values and the actual data points.\n",
    "* b0 and b1 are known as **parameters** of the model, parameters are the values that need to be learned from the data."
   ]
  },
  {
   "cell_type": "markdown",
   "id": "c70280de",
   "metadata": {},
   "source": [
    "### Implement simple linear regression using scikit-learn:\n",
    "\n",
    "Here's a simple example of implementing simple linear regression using scikit-learn:"
   ]
  },
  {
   "cell_type": "code",
   "execution_count": 1,
   "id": "2ffd3845",
   "metadata": {},
   "outputs": [],
   "source": [
    "import pandas as pd\n",
    "import numpy as np\n",
    "from sklearn.preprocessing import OneHotEncoder\n",
    "from sklearn.linear_model import LinearRegression\n",
    "from sklearn.metrics import mean_squared_error, r2_score\n",
    "from sklearn.model_selection import train_test_split\n",
    "import matplotlib.pyplot as plt\n",
    "import seaborn as sns"
   ]
  },
  {
   "cell_type": "code",
   "execution_count": null,
   "id": "b823c4dc",
   "metadata": {},
   "outputs": [],
   "source": [
    "# Create sample data\n",
    "X = np.array([[1], [2], [3], [4], [5]])\n",
    "y = np.array([2, 4, 6, 8, 10])\n",
    "\n",
    "# Split data into training and testing sets\n",
    "X_train, X_test, y_train, y_test = train_test_split(X, y, test_size=0.2, random_state=42)\n",
    "\n",
    "# Create a linear regression model\n",
    "model = LinearRegression()\n",
    "\n",
    "# Fit the model on the training data\n",
    "model.fit(X_train, y_train)\n",
    "\n",
    "# Make predictions on the testing data\n",
    "y_pred = model.predict(X_test)\n",
    "\n",
    "# Evaluate the model\n",
    "mse = mean_squared_error(y_test, y_pred)\n",
    "print(\"Mean Squared Error:\", mse)\n"
   ]
  },
  {
   "cell_type": "markdown",
   "id": "56049f84",
   "metadata": {},
   "source": []
  },
  {
   "cell_type": "markdown",
   "id": "44422867",
   "metadata": {},
   "source": [
    "## 3 Multiple Linear Regression:"
   ]
  },
  {
   "cell_type": "markdown",
   "id": "78589b77",
   "metadata": {},
   "source": [
    "Multiple linear regression is an extension of simple linear regression that models the relationship between multiple independent variables (input features) and a dependent variable (output). The goal is to find the best-fitting hyperplane that minimizes the error between predicted and actual values."
   ]
  },
  {
   "cell_type": "markdown",
   "id": "af99018e",
   "metadata": {},
   "source": [
    "### Understand the concept of multiple linear regression:\n",
    "\n",
    "\n",
    "The equation for multiple linear regression is:\n",
    "\n",
    "    \n",
    "y = b0 + b1 * x1 + b2 * x2 + ... + bn * xn\n",
    "\n",
    "\n",
    "where:\n",
    "\n",
    "    \n",
    "* y is the dependent variable (output)\n",
    "* x1, x2, ..., xn are the independent variables (input features)\n",
    "* b0 is the y-intercept\n",
    "* b1, b2, ..., bn are the coefficients of the independent variables\n",
    "\n",
    "The objective is to find the optimal values for b0, b1, b2, ..., bn that minimize the error between the predicted values and the actual data points."
   ]
  },
  {
   "cell_type": "markdown",
   "id": "5836324f",
   "metadata": {},
   "source": [
    "### Implement multiple linear regression using scikit-learn:\n",
    "\n",
    "Here's a simple example of implementing multiple linear regression using scikit-learn:\n",
    "Data: https://www.kaggle.com/datasets/mirichoi0218/insurance?resource=download"
   ]
  },
  {
   "cell_type": "code",
   "execution_count": 2,
   "id": "61f0e17d",
   "metadata": {},
   "outputs": [
    {
     "data": {
      "text/html": [
       "<div>\n",
       "<style scoped>\n",
       "    .dataframe tbody tr th:only-of-type {\n",
       "        vertical-align: middle;\n",
       "    }\n",
       "\n",
       "    .dataframe tbody tr th {\n",
       "        vertical-align: top;\n",
       "    }\n",
       "\n",
       "    .dataframe thead th {\n",
       "        text-align: right;\n",
       "    }\n",
       "</style>\n",
       "<table border=\"1\" class=\"dataframe\">\n",
       "  <thead>\n",
       "    <tr style=\"text-align: right;\">\n",
       "      <th></th>\n",
       "      <th>age</th>\n",
       "      <th>sex</th>\n",
       "      <th>bmi</th>\n",
       "      <th>children</th>\n",
       "      <th>smoker</th>\n",
       "      <th>region</th>\n",
       "      <th>charges</th>\n",
       "    </tr>\n",
       "  </thead>\n",
       "  <tbody>\n",
       "    <tr>\n",
       "      <th>0</th>\n",
       "      <td>19</td>\n",
       "      <td>female</td>\n",
       "      <td>27.900</td>\n",
       "      <td>0</td>\n",
       "      <td>yes</td>\n",
       "      <td>southwest</td>\n",
       "      <td>16884.92400</td>\n",
       "    </tr>\n",
       "    <tr>\n",
       "      <th>1</th>\n",
       "      <td>18</td>\n",
       "      <td>male</td>\n",
       "      <td>33.770</td>\n",
       "      <td>1</td>\n",
       "      <td>no</td>\n",
       "      <td>southeast</td>\n",
       "      <td>1725.55230</td>\n",
       "    </tr>\n",
       "    <tr>\n",
       "      <th>2</th>\n",
       "      <td>28</td>\n",
       "      <td>male</td>\n",
       "      <td>33.000</td>\n",
       "      <td>3</td>\n",
       "      <td>no</td>\n",
       "      <td>southeast</td>\n",
       "      <td>4449.46200</td>\n",
       "    </tr>\n",
       "    <tr>\n",
       "      <th>3</th>\n",
       "      <td>33</td>\n",
       "      <td>male</td>\n",
       "      <td>22.705</td>\n",
       "      <td>0</td>\n",
       "      <td>no</td>\n",
       "      <td>northwest</td>\n",
       "      <td>21984.47061</td>\n",
       "    </tr>\n",
       "    <tr>\n",
       "      <th>4</th>\n",
       "      <td>32</td>\n",
       "      <td>male</td>\n",
       "      <td>28.880</td>\n",
       "      <td>0</td>\n",
       "      <td>no</td>\n",
       "      <td>northwest</td>\n",
       "      <td>3866.85520</td>\n",
       "    </tr>\n",
       "  </tbody>\n",
       "</table>\n",
       "</div>"
      ],
      "text/plain": [
       "   age     sex     bmi  children smoker     region      charges\n",
       "0   19  female  27.900         0    yes  southwest  16884.92400\n",
       "1   18    male  33.770         1     no  southeast   1725.55230\n",
       "2   28    male  33.000         3     no  southeast   4449.46200\n",
       "3   33    male  22.705         0     no  northwest  21984.47061\n",
       "4   32    male  28.880         0     no  northwest   3866.85520"
      ]
     },
     "execution_count": 2,
     "metadata": {},
     "output_type": "execute_result"
    }
   ],
   "source": [
    "insurance = pd.read_csv(\"./insurance.csv\")\n",
    "insurance.head()"
   ]
  },
  {
   "cell_type": "code",
   "execution_count": 3,
   "id": "34a72929",
   "metadata": {},
   "outputs": [
    {
     "name": "stdout",
     "output_type": "stream",
     "text": [
      "<class 'pandas.core.frame.DataFrame'>\n",
      "RangeIndex: 1338 entries, 0 to 1337\n",
      "Data columns (total 7 columns):\n",
      " #   Column    Non-Null Count  Dtype  \n",
      "---  ------    --------------  -----  \n",
      " 0   age       1338 non-null   int64  \n",
      " 1   sex       1338 non-null   object \n",
      " 2   bmi       1338 non-null   float64\n",
      " 3   children  1338 non-null   int64  \n",
      " 4   smoker    1338 non-null   object \n",
      " 5   region    1338 non-null   object \n",
      " 6   charges   1338 non-null   float64\n",
      "dtypes: float64(2), int64(2), object(3)\n",
      "memory usage: 73.3+ KB\n"
     ]
    }
   ],
   "source": [
    "insurance.info()"
   ]
  },
  {
   "cell_type": "markdown",
   "id": "d450a1d4",
   "metadata": {},
   "source": [
    "### Numerical Correlation"
   ]
  },
  {
   "cell_type": "code",
   "execution_count": 4,
   "id": "72f66048",
   "metadata": {},
   "outputs": [
    {
     "data": {
      "text/html": [
       "<div>\n",
       "<style scoped>\n",
       "    .dataframe tbody tr th:only-of-type {\n",
       "        vertical-align: middle;\n",
       "    }\n",
       "\n",
       "    .dataframe tbody tr th {\n",
       "        vertical-align: top;\n",
       "    }\n",
       "\n",
       "    .dataframe thead th {\n",
       "        text-align: right;\n",
       "    }\n",
       "</style>\n",
       "<table border=\"1\" class=\"dataframe\">\n",
       "  <thead>\n",
       "    <tr style=\"text-align: right;\">\n",
       "      <th></th>\n",
       "      <th>age</th>\n",
       "      <th>bmi</th>\n",
       "      <th>children</th>\n",
       "      <th>charges</th>\n",
       "    </tr>\n",
       "  </thead>\n",
       "  <tbody>\n",
       "    <tr>\n",
       "      <th>age</th>\n",
       "      <td>1.000000</td>\n",
       "      <td>0.109272</td>\n",
       "      <td>0.042469</td>\n",
       "      <td>0.299008</td>\n",
       "    </tr>\n",
       "    <tr>\n",
       "      <th>bmi</th>\n",
       "      <td>0.109272</td>\n",
       "      <td>1.000000</td>\n",
       "      <td>0.012759</td>\n",
       "      <td>0.198341</td>\n",
       "    </tr>\n",
       "    <tr>\n",
       "      <th>children</th>\n",
       "      <td>0.042469</td>\n",
       "      <td>0.012759</td>\n",
       "      <td>1.000000</td>\n",
       "      <td>0.067998</td>\n",
       "    </tr>\n",
       "    <tr>\n",
       "      <th>charges</th>\n",
       "      <td>0.299008</td>\n",
       "      <td>0.198341</td>\n",
       "      <td>0.067998</td>\n",
       "      <td>1.000000</td>\n",
       "    </tr>\n",
       "  </tbody>\n",
       "</table>\n",
       "</div>"
      ],
      "text/plain": [
       "               age       bmi  children   charges\n",
       "age       1.000000  0.109272  0.042469  0.299008\n",
       "bmi       0.109272  1.000000  0.012759  0.198341\n",
       "children  0.042469  0.012759  1.000000  0.067998\n",
       "charges   0.299008  0.198341  0.067998  1.000000"
      ]
     },
     "execution_count": 4,
     "metadata": {},
     "output_type": "execute_result"
    }
   ],
   "source": [
    "correlation = insurance.corr()\n",
    "correlation"
   ]
  },
  {
   "cell_type": "code",
   "execution_count": 5,
   "id": "01257df2",
   "metadata": {},
   "outputs": [
    {
     "data": {
      "image/png": "[encoded data removed]",
      "text/plain": [
       "<Figure size 640x480 with 2 Axes>"
      ]
     },
     "metadata": {},
     "output_type": "display_data"
    }
   ],
   "source": [
    "sns.heatmap(correlation, annot=True)\n",
    "plt.show()"
   ]
  },
  {
   "cell_type": "markdown",
   "id": "1bdddaa9",
   "metadata": {},
   "source": [
    "* Correlations between the numerical variables and the target are relatively low.\n",
    "* **Age** - 30%.\n",
    "* **BMI** - 20%.\n",
    "* **Children** - 6.8%."
   ]
  },
  {
   "cell_type": "markdown",
   "id": "e13569c9",
   "metadata": {},
   "source": []
  },
  {
   "cell_type": "markdown",
   "id": "21e69a68",
   "metadata": {},
   "source": [
    "### Categorical relationship."
   ]
  },
  {
   "cell_type": "code",
   "execution_count": 6,
   "id": "98ecffb6",
   "metadata": {},
   "outputs": [
    {
     "data": {
      "image/png": "[encoded data removed]",
      "text/plain": [
       "<Figure size 640x480 with 1 Axes>"
      ]
     },
     "metadata": {},
     "output_type": "display_data"
    }
   ],
   "source": [
    "sns.boxplot(x=\"sex\", y=\"charges\", data=insurance, hue=\"sex\")\n",
    "plt.show()"
   ]
  },
  {
   "cell_type": "code",
   "execution_count": 7,
   "id": "e9e0d1f8",
   "metadata": {},
   "outputs": [
    {
     "data": {
      "image/png": "[encoded data removed]",
      "text/plain": [
       "<Figure size 640x480 with 1 Axes>"
      ]
     },
     "metadata": {},
     "output_type": "display_data"
    }
   ],
   "source": [
    "sns.boxplot(x=\"smoker\", y=\"charges\", data=insurance)\n",
    "plt.show()"
   ]
  },
  {
   "cell_type": "code",
   "execution_count": 8,
   "id": "fbbe9256",
   "metadata": {},
   "outputs": [
    {
     "data": {
      "image/png": "[encoded data removed]",
      "text/plain": [
       "<Figure size 640x480 with 1 Axes>"
      ]
     },
     "metadata": {},
     "output_type": "display_data"
    }
   ],
   "source": [
    "sns.boxplot(x=\"region\", y=\"charges\", data=insurance)\n",
    "plt.show()"
   ]
  },
  {
   "cell_type": "markdown",
   "id": "34155755",
   "metadata": {},
   "source": [
    "* Male seems to have a wider distribution than female.\n",
    "* Smokers seem to be having higher charges than non-smokers.\n",
    "* For the regions, the isn't any appreciatable differences."
   ]
  },
  {
   "cell_type": "markdown",
   "id": "cd83ecb5",
   "metadata": {},
   "source": [
    "#### * We can therefore select **age, BMI, smoker** variables for use in our model."
   ]
  },
  {
   "cell_type": "code",
   "execution_count": 9,
   "id": "b1051878",
   "metadata": {},
   "outputs": [
    {
     "data": {
      "text/html": [
       "<div>\n",
       "<style scoped>\n",
       "    .dataframe tbody tr th:only-of-type {\n",
       "        vertical-align: middle;\n",
       "    }\n",
       "\n",
       "    .dataframe tbody tr th {\n",
       "        vertical-align: top;\n",
       "    }\n",
       "\n",
       "    .dataframe thead th {\n",
       "        text-align: right;\n",
       "    }\n",
       "</style>\n",
       "<table border=\"1\" class=\"dataframe\">\n",
       "  <thead>\n",
       "    <tr style=\"text-align: right;\">\n",
       "      <th></th>\n",
       "      <th>age</th>\n",
       "      <th>bmi</th>\n",
       "      <th>smoker</th>\n",
       "      <th>charges</th>\n",
       "    </tr>\n",
       "  </thead>\n",
       "  <tbody>\n",
       "    <tr>\n",
       "      <th>0</th>\n",
       "      <td>19</td>\n",
       "      <td>27.900</td>\n",
       "      <td>yes</td>\n",
       "      <td>16884.92400</td>\n",
       "    </tr>\n",
       "    <tr>\n",
       "      <th>1</th>\n",
       "      <td>18</td>\n",
       "      <td>33.770</td>\n",
       "      <td>no</td>\n",
       "      <td>1725.55230</td>\n",
       "    </tr>\n",
       "    <tr>\n",
       "      <th>2</th>\n",
       "      <td>28</td>\n",
       "      <td>33.000</td>\n",
       "      <td>no</td>\n",
       "      <td>4449.46200</td>\n",
       "    </tr>\n",
       "    <tr>\n",
       "      <th>3</th>\n",
       "      <td>33</td>\n",
       "      <td>22.705</td>\n",
       "      <td>no</td>\n",
       "      <td>21984.47061</td>\n",
       "    </tr>\n",
       "    <tr>\n",
       "      <th>4</th>\n",
       "      <td>32</td>\n",
       "      <td>28.880</td>\n",
       "      <td>no</td>\n",
       "      <td>3866.85520</td>\n",
       "    </tr>\n",
       "    <tr>\n",
       "      <th>...</th>\n",
       "      <td>...</td>\n",
       "      <td>...</td>\n",
       "      <td>...</td>\n",
       "      <td>...</td>\n",
       "    </tr>\n",
       "    <tr>\n",
       "      <th>1333</th>\n",
       "      <td>50</td>\n",
       "      <td>30.970</td>\n",
       "      <td>no</td>\n",
       "      <td>10600.54830</td>\n",
       "    </tr>\n",
       "    <tr>\n",
       "      <th>1334</th>\n",
       "      <td>18</td>\n",
       "      <td>31.920</td>\n",
       "      <td>no</td>\n",
       "      <td>2205.98080</td>\n",
       "    </tr>\n",
       "    <tr>\n",
       "      <th>1335</th>\n",
       "      <td>18</td>\n",
       "      <td>36.850</td>\n",
       "      <td>no</td>\n",
       "      <td>1629.83350</td>\n",
       "    </tr>\n",
       "    <tr>\n",
       "      <th>1336</th>\n",
       "      <td>21</td>\n",
       "      <td>25.800</td>\n",
       "      <td>no</td>\n",
       "      <td>2007.94500</td>\n",
       "    </tr>\n",
       "    <tr>\n",
       "      <th>1337</th>\n",
       "      <td>61</td>\n",
       "      <td>29.070</td>\n",
       "      <td>yes</td>\n",
       "      <td>29141.36030</td>\n",
       "    </tr>\n",
       "  </tbody>\n",
       "</table>\n",
       "<p>1338 rows × 4 columns</p>\n",
       "</div>"
      ],
      "text/plain": [
       "      age     bmi smoker      charges\n",
       "0      19  27.900    yes  16884.92400\n",
       "1      18  33.770     no   1725.55230\n",
       "2      28  33.000     no   4449.46200\n",
       "3      33  22.705     no  21984.47061\n",
       "4      32  28.880     no   3866.85520\n",
       "...   ...     ...    ...          ...\n",
       "1333   50  30.970     no  10600.54830\n",
       "1334   18  31.920     no   2205.98080\n",
       "1335   18  36.850     no   1629.83350\n",
       "1336   21  25.800     no   2007.94500\n",
       "1337   61  29.070    yes  29141.36030\n",
       "\n",
       "[1338 rows x 4 columns]"
      ]
     },
     "execution_count": 9,
     "metadata": {},
     "output_type": "execute_result"
    }
   ],
   "source": [
    "insurance_final = insurance[[\"age\", \"bmi\", \"smoker\", \"charges\"]]\n",
    "insurance_final"
   ]
  },
  {
   "cell_type": "code",
   "execution_count": 10,
   "id": "c78da541",
   "metadata": {},
   "outputs": [
    {
     "name": "stderr",
     "output_type": "stream",
     "text": [
      "C:\\Users\\user\\AppData\\Local\\Temp\\ipykernel_11140\\3679143274.py:4: SettingWithCopyWarning: \n",
      "A value is trying to be set on a copy of a slice from a DataFrame.\n",
      "Try using .loc[row_indexer,col_indexer] = value instead\n",
      "\n",
      "See the caveats in the documentation: https://pandas.pydata.org/pandas-docs/stable/user_guide/indexing.html#returning-a-view-versus-a-copy\n",
      "  insurance_final[\"smoker\"] = smoker_df[\"x0_yes\"]\n"
     ]
    },
    {
     "data": {
      "text/html": [
       "<div>\n",
       "<style scoped>\n",
       "    .dataframe tbody tr th:only-of-type {\n",
       "        vertical-align: middle;\n",
       "    }\n",
       "\n",
       "    .dataframe tbody tr th {\n",
       "        vertical-align: top;\n",
       "    }\n",
       "\n",
       "    .dataframe thead th {\n",
       "        text-align: right;\n",
       "    }\n",
       "</style>\n",
       "<table border=\"1\" class=\"dataframe\">\n",
       "  <thead>\n",
       "    <tr style=\"text-align: right;\">\n",
       "      <th></th>\n",
       "      <th>age</th>\n",
       "      <th>bmi</th>\n",
       "      <th>smoker</th>\n",
       "      <th>charges</th>\n",
       "    </tr>\n",
       "  </thead>\n",
       "  <tbody>\n",
       "    <tr>\n",
       "      <th>0</th>\n",
       "      <td>19</td>\n",
       "      <td>27.900</td>\n",
       "      <td>1.0</td>\n",
       "      <td>16884.92400</td>\n",
       "    </tr>\n",
       "    <tr>\n",
       "      <th>1</th>\n",
       "      <td>18</td>\n",
       "      <td>33.770</td>\n",
       "      <td>0.0</td>\n",
       "      <td>1725.55230</td>\n",
       "    </tr>\n",
       "    <tr>\n",
       "      <th>2</th>\n",
       "      <td>28</td>\n",
       "      <td>33.000</td>\n",
       "      <td>0.0</td>\n",
       "      <td>4449.46200</td>\n",
       "    </tr>\n",
       "    <tr>\n",
       "      <th>3</th>\n",
       "      <td>33</td>\n",
       "      <td>22.705</td>\n",
       "      <td>0.0</td>\n",
       "      <td>21984.47061</td>\n",
       "    </tr>\n",
       "    <tr>\n",
       "      <th>4</th>\n",
       "      <td>32</td>\n",
       "      <td>28.880</td>\n",
       "      <td>0.0</td>\n",
       "      <td>3866.85520</td>\n",
       "    </tr>\n",
       "    <tr>\n",
       "      <th>...</th>\n",
       "      <td>...</td>\n",
       "      <td>...</td>\n",
       "      <td>...</td>\n",
       "      <td>...</td>\n",
       "    </tr>\n",
       "    <tr>\n",
       "      <th>1333</th>\n",
       "      <td>50</td>\n",
       "      <td>30.970</td>\n",
       "      <td>0.0</td>\n",
       "      <td>10600.54830</td>\n",
       "    </tr>\n",
       "    <tr>\n",
       "      <th>1334</th>\n",
       "      <td>18</td>\n",
       "      <td>31.920</td>\n",
       "      <td>0.0</td>\n",
       "      <td>2205.98080</td>\n",
       "    </tr>\n",
       "    <tr>\n",
       "      <th>1335</th>\n",
       "      <td>18</td>\n",
       "      <td>36.850</td>\n",
       "      <td>0.0</td>\n",
       "      <td>1629.83350</td>\n",
       "    </tr>\n",
       "    <tr>\n",
       "      <th>1336</th>\n",
       "      <td>21</td>\n",
       "      <td>25.800</td>\n",
       "      <td>0.0</td>\n",
       "      <td>2007.94500</td>\n",
       "    </tr>\n",
       "    <tr>\n",
       "      <th>1337</th>\n",
       "      <td>61</td>\n",
       "      <td>29.070</td>\n",
       "      <td>1.0</td>\n",
       "      <td>29141.36030</td>\n",
       "    </tr>\n",
       "  </tbody>\n",
       "</table>\n",
       "<p>1338 rows × 4 columns</p>\n",
       "</div>"
      ],
      "text/plain": [
       "      age     bmi  smoker      charges\n",
       "0      19  27.900     1.0  16884.92400\n",
       "1      18  33.770     0.0   1725.55230\n",
       "2      28  33.000     0.0   4449.46200\n",
       "3      33  22.705     0.0  21984.47061\n",
       "4      32  28.880     0.0   3866.85520\n",
       "...   ...     ...     ...          ...\n",
       "1333   50  30.970     0.0  10600.54830\n",
       "1334   18  31.920     0.0   2205.98080\n",
       "1335   18  36.850     0.0   1629.83350\n",
       "1336   21  25.800     0.0   2007.94500\n",
       "1337   61  29.070     1.0  29141.36030\n",
       "\n",
       "[1338 rows x 4 columns]"
      ]
     },
     "execution_count": 10,
     "metadata": {},
     "output_type": "execute_result"
    }
   ],
   "source": [
    "encoder = OneHotEncoder(sparse=False, drop=\"first\")\n",
    "smoker_encoded = encoder.fit_transform(insurance_final[\"smoker\"].values.reshape(-1,1))\n",
    "smoker_df = pd.DataFrame(smoker_encoded, columns=encoder.get_feature_names_out())\n",
    "insurance_final[\"smoker\"] = smoker_df[\"x0_yes\"].copy()\n",
    "insurance_final"
   ]
  },
  {
   "cell_type": "code",
   "execution_count": null,
   "id": "874c10eb",
   "metadata": {},
   "outputs": [],
   "source": []
  },
  {
   "cell_type": "markdown",
   "id": "a88623c5",
   "metadata": {},
   "source": [
    "### Modelling"
   ]
  },
  {
   "cell_type": "code",
   "execution_count": 11,
   "id": "0cd00c3e",
   "metadata": {},
   "outputs": [],
   "source": [
    "X = insurance_final.drop(\"charges\", axis=1)\n",
    "y = insurance_final[\"charges\"]\n",
    "X_train, X_test, y_train, y_test = train_test_split(X, y, random_state=100)"
   ]
  },
  {
   "cell_type": "code",
   "execution_count": 12,
   "id": "613955c3",
   "metadata": {},
   "outputs": [
    {
     "data": {
      "text/plain": [
       "0.7365570988359027"
      ]
     },
     "execution_count": 12,
     "metadata": {},
     "output_type": "execute_result"
    }
   ],
   "source": [
    "model = LinearRegression()\n",
    "model.fit(X_train, y_train)\n",
    "model.score(X_train, y_train)"
   ]
  },
  {
   "cell_type": "markdown",
   "id": "b5586629",
   "metadata": {},
   "source": [
    "#### Interpretation"
   ]
  },
  {
   "cell_type": "code",
   "execution_count": 18,
   "id": "dba1e576",
   "metadata": {},
   "outputs": [
    {
     "data": {
      "text/html": [
       "<div>\n",
       "<style scoped>\n",
       "    .dataframe tbody tr th:only-of-type {\n",
       "        vertical-align: middle;\n",
       "    }\n",
       "\n",
       "    .dataframe tbody tr th {\n",
       "        vertical-align: top;\n",
       "    }\n",
       "\n",
       "    .dataframe thead th {\n",
       "        text-align: right;\n",
       "    }\n",
       "</style>\n",
       "<table border=\"1\" class=\"dataframe\">\n",
       "  <thead>\n",
       "    <tr style=\"text-align: right;\">\n",
       "      <th></th>\n",
       "      <th>age</th>\n",
       "      <th>bmi</th>\n",
       "      <th>smoker</th>\n",
       "      <th>charges</th>\n",
       "    </tr>\n",
       "  </thead>\n",
       "  <tbody>\n",
       "    <tr>\n",
       "      <th>0</th>\n",
       "      <td>19</td>\n",
       "      <td>27.900</td>\n",
       "      <td>1.0</td>\n",
       "      <td>16884.92400</td>\n",
       "    </tr>\n",
       "    <tr>\n",
       "      <th>1</th>\n",
       "      <td>18</td>\n",
       "      <td>33.770</td>\n",
       "      <td>0.0</td>\n",
       "      <td>1725.55230</td>\n",
       "    </tr>\n",
       "    <tr>\n",
       "      <th>2</th>\n",
       "      <td>28</td>\n",
       "      <td>33.000</td>\n",
       "      <td>0.0</td>\n",
       "      <td>4449.46200</td>\n",
       "    </tr>\n",
       "    <tr>\n",
       "      <th>3</th>\n",
       "      <td>33</td>\n",
       "      <td>22.705</td>\n",
       "      <td>0.0</td>\n",
       "      <td>21984.47061</td>\n",
       "    </tr>\n",
       "    <tr>\n",
       "      <th>4</th>\n",
       "      <td>32</td>\n",
       "      <td>28.880</td>\n",
       "      <td>0.0</td>\n",
       "      <td>3866.85520</td>\n",
       "    </tr>\n",
       "  </tbody>\n",
       "</table>\n",
       "</div>"
      ],
      "text/plain": [
       "   age     bmi  smoker      charges\n",
       "0   19  27.900     1.0  16884.92400\n",
       "1   18  33.770     0.0   1725.55230\n",
       "2   28  33.000     0.0   4449.46200\n",
       "3   33  22.705     0.0  21984.47061\n",
       "4   32  28.880     0.0   3866.85520"
      ]
     },
     "execution_count": 18,
     "metadata": {},
     "output_type": "execute_result"
    }
   ],
   "source": [
    "insurance_final.head()"
   ]
  },
  {
   "cell_type": "code",
   "execution_count": 17,
   "id": "14e0bb3f",
   "metadata": {},
   "outputs": [
    {
     "data": {
      "text/plain": [
       "array([  263.11376701,   296.83928992, 23726.50417858])"
      ]
     },
     "execution_count": 17,
     "metadata": {},
     "output_type": "execute_result"
    }
   ],
   "source": [
    "model.coef_"
   ]
  },
  {
   "cell_type": "markdown",
   "id": "9057a796",
   "metadata": {},
   "source": [
    "* A unit change in age leads to 263.11 change in the outcome, with all other factors held constant.\n",
    "\n",
    "* Unit change in the BMI leads to a 296 change in the outcome, holding all other factors constant.\n",
    "* The outcome on average changes by 23726.5 if the observation changes from a smoker to a non-smoker, holding all other factors constant."
   ]
  },
  {
   "cell_type": "code",
   "execution_count": null,
   "id": "915ca98e",
   "metadata": {},
   "outputs": [],
   "source": []
  },
  {
   "cell_type": "markdown",
   "id": "6979307f",
   "metadata": {},
   "source": [
    "### Other types of Regression.\n",
    "\n",
    "* Polynomial Regression.\n",
    "* Regularization techniques.\n",
    "* Support Vector Regressors.\n",
    "* Decision Tree Regressors.\n",
    "* Ensemble methods."
   ]
  },
  {
   "cell_type": "code",
   "execution_count": null,
   "id": "16283cc9",
   "metadata": {},
   "outputs": [],
   "source": []
  },
  {
   "cell_type": "markdown",
   "id": "61c0a7ee",
   "metadata": {},
   "source": [
    "## 4 Model Evaluation Metrics for Regression:\n",
    "\n",
    "When evaluating the performance of regression models, various metrics can be used to measure how well the model fits the data and generalizes to new data points. Some common evaluation metrics for regression include Mean Absolute Error (MAE), Mean Squared Error (MSE), Root Mean Squared Error (RMSE), R-squared, and Adjusted R-squared."
   ]
  },
  {
   "cell_type": "markdown",
   "id": "62e33dc2",
   "metadata": {},
   "source": [
    "### Mean Absolute Error (MAE):\n",
    "\n",
    "\n",
    "MAE measures the average absolute difference between the predicted values and the actual values. It is a simple and intuitive metric that gives an idea of the average magnitude of the errors.\n",
    "\n",
    "\n",
    "\n",
    "Formula: MAE = (1/n) * Σ|y_true - y_pred|, \n",
    "\n",
    "\n",
    "where \n",
    "* n is the number of samples, \n",
    "* y_true are the true values, and \n",
    "* y_pred are the predicted values."
   ]
  },
  {
   "cell_type": "markdown",
   "id": "b794e0c5",
   "metadata": {},
   "source": [
    "### Mean Squared Error (MSE):\n",
    "\n",
    "\n",
    "MSE measures the average squared difference between the predicted values and the actual values. It emphasizes larger errors by squaring them, making it more sensitive to outliers than MAE.\n",
    "\n",
    "\n",
    "\n",
    "Formula: MSE = (1/n) * Σ(y_true - y_pred)^2"
   ]
  },
  {
   "cell_type": "markdown",
   "id": "b347c5f9",
   "metadata": {},
   "source": [
    "### Root Mean Squared Error (RMSE):\n",
    "\n",
    "\n",
    "RMSE is the square root of the MSE. It represents the standard deviation of the residuals, which are the differences between the predicted values and the actual values. Like MSE, it is sensitive to outliers but has the same unit as the original data, making it easier to interpret.\n",
    "\n",
    "\n",
    "Formula: RMSE = √(MSE)"
   ]
  },
  {
   "cell_type": "markdown",
   "id": "d9442835",
   "metadata": {},
   "source": [
    "### R-squared:\n",
    "    \n",
    "    \n",
    "R-squared, also known as the coefficient of determination, measures the proportion of variance in the dependent variable that is predictable from the independent variables. It ranges from 0 to 1, with higher values indicating a better fit. An R-squared value of 1 indicates that the model explains all the variability in the data, while a value of 0 indicates that the model does not explain any variability.\n",
    "\n",
    "\n",
    "Formula: R^2 = 1 - (Σ(y_true - y_pred)^2) / (Σ(y_true - y_mean)^2), \n",
    "\n",
    "where \n",
    "\n",
    "* y_mean is the mean of the true values."
   ]
  },
  {
   "cell_type": "markdown",
   "id": "db1d7e75",
   "metadata": {},
   "source": [
    "### Adjusted R-squared:\n",
    "\n",
    "\n",
    "Adjusted R-squared is a modified version of R-squared that takes into account the number of independent variables (features) in the model. It is useful when comparing models with different numbers of features, as it penalizes models that include irrelevant features. Unlike R-squared, Adjusted R-squared can decrease when adding a new feature that does not improve the model's performance.\n",
    "\n",
    "\n",
    "\n",
    "Formula: Adjusted R^2 = 1 - [(1 - R^2) * (n - 1) / (n - k - 1)], \n",
    "    \n",
    "where \n",
    "\n",
    "* n is the number of samples, \n",
    "* k is the number of independent variables (features)."
   ]
  },
  {
   "cell_type": "markdown",
   "id": "08d539d3",
   "metadata": {},
   "source": [
    "### Implement random forest regression using scikit-learn:"
   ]
  },
  {
   "cell_type": "code",
   "execution_count": 13,
   "id": "065e900e",
   "metadata": {},
   "outputs": [
    {
     "data": {
      "text/plain": [
       "38503119.78699751"
      ]
     },
     "execution_count": 13,
     "metadata": {},
     "output_type": "execute_result"
    }
   ],
   "source": [
    "# MSE\n",
    "train_predictions = model.predict(X_train)\n",
    "mse = mean_squared_error(y_train, train_predictions)\n",
    "mse"
   ]
  },
  {
   "cell_type": "code",
   "execution_count": 14,
   "id": "ec8c282d",
   "metadata": {},
   "outputs": [
    {
     "data": {
      "text/plain": [
       "0.7365570988359027"
      ]
     },
     "execution_count": 14,
     "metadata": {},
     "output_type": "execute_result"
    }
   ],
   "source": [
    "# R2\n",
    "r2 = r2_score(y_train, train_predictions)\n",
    "r2"
   ]
  },
  {
   "cell_type": "code",
   "execution_count": null,
   "id": "853e059c",
   "metadata": {},
   "outputs": [],
   "source": []
  },
  {
   "cell_type": "code",
   "execution_count": 19,
   "id": "fc3ea9b6",
   "metadata": {},
   "outputs": [
    {
     "data": {
      "text/plain": [
       "32636482.613910366"
      ]
     },
     "execution_count": 19,
     "metadata": {},
     "output_type": "execute_result"
    }
   ],
   "source": [
    "# On test data\n",
    "test_pred = model.predict(X_test)\n",
    "mse_test = mean_squared_error(y_test, test_pred)\n",
    "mse_test"
   ]
  },
  {
   "cell_type": "markdown",
   "id": "5a7230f0",
   "metadata": {},
   "source": [
    "* The Mean Squared error for the test is **32636482.6** and that of the training is **38503119.7**.\n",
    "* These two errors are not far away from each other so our model is less likely to be overfitted."
   ]
  },
  {
   "cell_type": "code",
   "execution_count": null,
   "id": "1946f234",
   "metadata": {},
   "outputs": [],
   "source": []
  },
  {
   "cell_type": "markdown",
   "id": "68be3ad7",
   "metadata": {},
   "source": [
    "### Understand the concept of overfitting and underfitting:\n",
    "    \n",
    "* **Overfitting**: When a model performs well on the training data but poorly on the testing data, it is said to be overfitting. This occurs when the model captures the noise in the data, fitting it too closely, and thus fails to generalize well to new data.\n",
    "\n",
    "    \n",
    "* **Underfitting**: When a model performs poorly on both the training and testing data, it is said to be underfitting. This occurs when the model fails to capture the underlying patterns in the data, often due to excessive simplicity."
   ]
  },
  {
   "cell_type": "markdown",
   "id": "4f477f56",
   "metadata": {},
   "source": [
    "### Checking Linear Regression Fit.\n",
    "\n",
    "* Linear regression comes with an assumption of linearity.\n",
    "* We should always try and determine whether Linear regression is the best fit, and to do this we can examine the residuals that the model produces.\n",
    "* We assume that the residuals have the following characteristics:\n",
    "    1. They have a mean of zero.\n",
    "    2. The variance of residuals is constant.\n",
    "* Weather or not the assumptions hold, can help us determine whether linear regression is the appropriate model for the data."
   ]
  },
  {
   "cell_type": "markdown",
   "id": "4cec8a35",
   "metadata": {},
   "source": [
    "##### Constant Variance"
   ]
  },
  {
   "cell_type": "code",
   "execution_count": 15,
   "id": "b2ee9c9a",
   "metadata": {},
   "outputs": [
    {
     "data": {
      "image/png": "[encoded data removed]",
      "text/plain": [
       "<Figure size 640x480 with 1 Axes>"
      ]
     },
     "metadata": {},
     "output_type": "display_data"
    }
   ],
   "source": [
    "checks = pd.DataFrame()\n",
    "checks[\"residuals\"] = y_train - train_predictions\n",
    "checks[\"preds\"] = train_predictions\n",
    "\n",
    "sns.scatterplot(x=\"preds\", y=\"residuals\", data=checks)\n",
    "plt.show()"
   ]
  },
  {
   "cell_type": "markdown",
   "id": "e1093fe3",
   "metadata": {},
   "source": [
    "##### Zero Mean"
   ]
  },
  {
   "cell_type": "code",
   "execution_count": 16,
   "id": "4bfdb6fb",
   "metadata": {},
   "outputs": [
    {
     "data": {
      "text/plain": [
       "1.4685211062026493e-12"
      ]
     },
     "execution_count": 16,
     "metadata": {},
     "output_type": "execute_result"
    }
   ],
   "source": [
    "residual_mean = checks[\"residuals\"].mean()\n",
    "residual_mean"
   ]
  },
  {
   "cell_type": "markdown",
   "id": "122838ef",
   "metadata": {},
   "source": [
    "### This model violates the assumptions of linear regression.\n",
    "* Residual mean is greater than zero, which means that the model overestimates the outcome.\n",
    "* No constant variance of residuals, as the predicted charges increase, the residuals decrease.\n",
    "* But we expect the residuals to form an even band around the zero.\n",
    "* This does not necessarily make the model predictions unusable, but it puts into question the linear regression assumptions."
   ]
  },
  {
   "cell_type": "code",
   "execution_count": null,
   "id": "c1358434",
   "metadata": {},
   "outputs": [],
   "source": []
  },
  {
   "cell_type": "markdown",
   "id": "8f592bf2",
   "metadata": {},
   "source": [
    "## 5 Model Selection and Hyperparameter Tuning:\n",
    "\n",
    "Model selection and hyperparameter tuning are essential steps in building effective machine learning models. These processes help ensure that the chosen model generalizes well to new data points and performs optimally."
   ]
  },
  {
   "cell_type": "markdown",
   "id": "d9ef7e60",
   "metadata": {},
   "source": [
    "### Split datasets into training, validation, and testing sets:\n",
    "\n",
    "To evaluate a model's performance and tune hyperparameters, it's crucial to split the dataset into separate sets: training, validation, and testing. \n",
    "\n",
    "* The training set is used to fit the model,\n",
    "* the validation set is used to tune hyperparameters and select the best model, \n",
    "* testing set is used to evaluate the final model's performance."
   ]
  },
  {
   "cell_type": "markdown",
   "id": "3c158f84",
   "metadata": {},
   "source": [
    "### Understand the concept of cross-validation:\n",
    "\n",
    "* Cross-validation is a technique used to assess the performance of a model by training and evaluating it on different subsets of the data. \n",
    "* The most common form of cross-validation is k-fold cross-validation, where the data is divided into k equal-sized folds. The model is trained on k-1 folds and evaluated on the remaining fold. This process is repeated k times, with each fold used as the validation set once. The average performance across all iterations is used as the model's performance estimate."
   ]
  },
  {
   "cell_type": "markdown",
   "id": "85b5db0a",
   "metadata": {},
   "source": [
    "### Grid search and randomized search for hyperparameter tuning:\n",
    "\n",
    "Grid search and randomized search are two methods for hyperparameter tuning:\n",
    "\n",
    "* **Grid search**: An exhaustive search over a specified range of hyperparameter values. The model is trained and evaluated for each combination of hyperparameter values, and the combination that yields the best performance is chosen.\n",
    "\n",
    "* **Randomized search**: A more efficient alternative to grid search. Instead of trying every possible combination, a fixed number of random combinations of hyperparameter values are sampled. This approach can be faster and yield similar results compared to grid search, especially when dealing with a large number of hyperparameters."
   ]
  },
  {
   "cell_type": "markdown",
   "id": "eb6f4972",
   "metadata": {},
   "source": [
    "### Implement model selection and hyperparameter tuning using scikit-learn:\n",
    "    \n",
    "Scikit-learn provides various tools for model selection and hyperparameter tuning, such as train_test_split, cross_val_score, GridSearchCV, and RandomizedSearchCV."
   ]
  },
  {
   "cell_type": "markdown",
   "id": "db63c2c2",
   "metadata": {},
   "source": [
    "### Example of using grid search for hyperparameter tuning:"
   ]
  },
  {
   "cell_type": "code",
   "execution_count": null,
   "id": "72cf3e52",
   "metadata": {},
   "outputs": [],
   "source": [
    "import numpy as np\n",
    "from sklearn.datasets import load_boston\n",
    "from sklearn.model_selection import train_test_split, GridSearchCV\n",
    "from sklearn.ensemble import RandomForestRegressor\n",
    "\n",
    "# Load data\n",
    "data = load_boston()\n",
    "X = data.data\n",
    "y = data.target\n",
    "\n",
    "# Split data into training and testing sets\n",
    "X_train, X_test, y_train, y_test = train_test_split(X, y, test_size=0.2, random_state=42)\n",
    "\n",
    "# Define the hyperparameter grid\n",
    "param_grid = {\n",
    "    'n_estimators': [10, 50, 100, 200],\n",
    "    'max_depth': [None, 10, 20, 30],\n",
    "    'min_samples_split': [2, 5, 10]\n",
    "}\n",
    "\n",
    "# Create a random forest regressor\n",
    "rforest = RandomForestRegressor(random_state=42)\n",
    "\n",
    "# Instantiate the grid search with cross-validation\n",
    "grid_search = GridSearchCV(estimator=rforest, param_grid=param_grid, cv=5, scoring='neg_mean_squared_error')\n",
    "\n",
    "# Fit the grid search to the data\n",
    "grid_search.fit(X_train, y_train)\n",
    "\n",
    "# Print the best combination of hyperparameters and their score\n",
    "print(\"Best hyperparameters:\", grid_search.best_params_)\n",
    "print(\"Best score:\", -grid_search.best_score_)\n"
   ]
  },
  {
   "cell_type": "markdown",
   "id": "f319dec6",
   "metadata": {},
   "source": [
    "# END"
   ]
  }
 ],
 "metadata": {
  "kernelspec": {
   "display_name": "Python 3 (ipykernel)",
   "language": "python",
   "name": "python3"
  },
  "language_info": {
   "codemirror_mode": {
    "name": "ipython",
    "version": 3
   },
   "file_extension": ".py",
   "mimetype": "text/x-python",
   "name": "python",
   "nbconvert_exporter": "python",
   "pygments_lexer": "ipython3",
   "version": "3.9.13"
  }
 },
 "nbformat": 4,
 "nbformat_minor": 5
}
