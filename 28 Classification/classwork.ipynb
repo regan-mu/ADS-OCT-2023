{
 "cells": [
  {
   "cell_type": "code",
   "execution_count": 1,
   "metadata": {},
   "outputs": [],
   "source": [
    "import pandas as pd"
   ]
  },
  {
   "cell_type": "code",
   "execution_count": 2,
   "metadata": {},
   "outputs": [],
   "source": [
    "from sklearn import datasets\n",
    "iris = datasets.load_iris()\n",
    "#iris.data"
   ]
  },
  {
   "cell_type": "code",
   "execution_count": 3,
   "metadata": {},
   "outputs": [],
   "source": [
    "from sklearn.model_selection import train_test_split\n",
    "X_train, X_test, y_train, y_test = train_test_split(iris.data, iris.target, test_size=0.3, random_state=42, stratify=iris.target)"
   ]
  },
  {
   "cell_type": "code",
   "execution_count": null,
   "metadata": {},
   "outputs": [],
   "source": []
  },
  {
   "cell_type": "code",
   "execution_count": 6,
   "metadata": {},
   "outputs": [],
   "source": [
    "from sklearn.preprocessing import StandardScaler\n",
    "scaler = StandardScaler()\n",
    "X_train_scaled = scaler.fit_transform(X_train)\n",
    "X_test_scaled = scaler.transform(X_test)"
   ]
  },
  {
   "cell_type": "code",
   "execution_count": 7,
   "metadata": {},
   "outputs": [],
   "source": [
    "from sklearn.impute import SimpleImputer\n",
    "imputer = SimpleImputer(strategy='mean')\n",
    "X_train_imputed = imputer.fit_transform(X_train)\n",
    "X_test_imputed = imputer.transform(X_test)"
   ]
  },
  {
   "cell_type": "code",
   "execution_count": null,
   "metadata": {},
   "outputs": [],
   "source": []
  },
  {
   "cell_type": "code",
   "execution_count": null,
   "metadata": {},
   "outputs": [],
   "source": []
  },
  {
   "cell_type": "code",
   "execution_count": 8,
   "metadata": {},
   "outputs": [],
   "source": [
    "from sklearn.linear_model import LogisticRegression"
   ]
  },
  {
   "cell_type": "code",
   "execution_count": 9,
   "metadata": {},
   "outputs": [],
   "source": [
    "logreg = LogisticRegression()\n",
    "logreg.fit(X_train_scaled, y_train)\n",
    "predictions = logreg.predict(X_test_scaled)"
   ]
  },
  {
   "cell_type": "code",
   "execution_count": null,
   "metadata": {},
   "outputs": [],
   "source": []
  },
  {
   "cell_type": "code",
   "execution_count": null,
   "metadata": {},
   "outputs": [],
   "source": []
  },
  {
   "cell_type": "code",
   "execution_count": 11,
   "metadata": {},
   "outputs": [
    {
     "name": "stderr",
     "output_type": "stream",
     "text": [
      "c:\\Users\\user\\anaconda3\\lib\\site-packages\\sklearn\\neighbors\\_classification.py:228: FutureWarning: Unlike other reduction functions (e.g. `skew`, `kurtosis`), the default behavior of `mode` typically preserves the axis it acts along. In SciPy 1.11.0, this behavior will change: the default value of `keepdims` will become False, the `axis` over which the statistic is taken will be eliminated, and the value None will no longer be accepted. Set `keepdims` to True or False to avoid this warning.\n",
      "  mode, _ = stats.mode(_y[neigh_ind, k], axis=1)\n"
     ]
    }
   ],
   "source": [
    "from sklearn.neighbors import KNeighborsClassifier\n",
    "knn = KNeighborsClassifier(n_neighbors=5)\n",
    "knn.fit(X_train_scaled, y_train)\n",
    "predictions = knn.predict(X_test_scaled)"
   ]
  },
  {
   "cell_type": "code",
   "execution_count": null,
   "metadata": {},
   "outputs": [],
   "source": []
  },
  {
   "cell_type": "code",
   "execution_count": null,
   "metadata": {},
   "outputs": [],
   "source": []
  },
  {
   "cell_type": "code",
   "execution_count": 12,
   "metadata": {},
   "outputs": [],
   "source": [
    "from sklearn.svm import SVC\n",
    "svm = SVC(kernel='linear', C=1)\n",
    "svm.fit(X_train_scaled, y_train)\n",
    "predictions = svm.predict(X_test_scaled)"
   ]
  },
  {
   "cell_type": "code",
   "execution_count": null,
   "metadata": {},
   "outputs": [],
   "source": []
  },
  {
   "cell_type": "code",
   "execution_count": null,
   "metadata": {},
   "outputs": [],
   "source": []
  },
  {
   "cell_type": "code",
   "execution_count": 13,
   "metadata": {},
   "outputs": [],
   "source": [
    "from sklearn.tree import DecisionTreeClassifier\n",
    "dtree = DecisionTreeClassifier(max_depth=3, random_state=42)\n",
    "dtree.fit(X_train_scaled, y_train)\n",
    "predictions = dtree.predict(X_test_scaled)"
   ]
  },
  {
   "cell_type": "code",
   "execution_count": null,
   "metadata": {},
   "outputs": [],
   "source": []
  },
  {
   "cell_type": "code",
   "execution_count": null,
   "metadata": {},
   "outputs": [],
   "source": []
  },
  {
   "cell_type": "code",
   "execution_count": 14,
   "metadata": {},
   "outputs": [],
   "source": [
    "from sklearn.ensemble import RandomForestClassifier\n",
    "rf = RandomForestClassifier(n_estimators=100, max_depth=3, random_state=42)\n",
    "rf.fit(X_train_scaled, y_train)\n",
    "predictions = rf.predict(X_test_scaled)"
   ]
  },
  {
   "cell_type": "code",
   "execution_count": null,
   "metadata": {},
   "outputs": [],
   "source": []
  },
  {
   "cell_type": "code",
   "execution_count": null,
   "metadata": {},
   "outputs": [],
   "source": []
  },
  {
   "cell_type": "code",
   "execution_count": 15,
   "metadata": {},
   "outputs": [
    {
     "data": {
      "text/plain": [
       "GridSearchCV(cv=5, estimator=SVC(),\n",
       "             param_grid={'C': [0.1, 1, 10], 'kernel': ['linear', 'rbf']})"
      ]
     },
     "execution_count": 15,
     "metadata": {},
     "output_type": "execute_result"
    }
   ],
   "source": [
    "from sklearn.model_selection import GridSearchCV\n",
    "param_grid = {'C': [0.1, 1, 10], 'kernel': ['linear', 'rbf']}\n",
    "grid_search = GridSearchCV(SVC(), param_grid, cv=5)\n",
    "grid_search.fit(X_train_scaled, y_train)"
   ]
  },
  {
   "cell_type": "code",
   "execution_count": 16,
   "metadata": {},
   "outputs": [
    {
     "data": {
      "text/plain": [
       "{'C': 0.1, 'kernel': 'linear'}"
      ]
     },
     "execution_count": 16,
     "metadata": {},
     "output_type": "execute_result"
    }
   ],
   "source": [
    "grid_search.best_params_"
   ]
  },
  {
   "cell_type": "code",
   "execution_count": 17,
   "metadata": {},
   "outputs": [
    {
     "data": {
      "text/plain": [
       "{'mean_fit_time': array([0.00279245, 0.00459003, 0.00378723, 0.00199337, 0.00558696,\n",
       "        0.00259247]),\n",
       " 'std_fit_time': array([0.00213285, 0.00279406, 0.0024717 , 0.00109236, 0.00669576,\n",
       "        0.00205237]),\n",
       " 'mean_score_time': array([0.00159321, 0.00159869, 0.00139604, 0.00179458, 0.0007956 ,\n",
       "        0.00319066]),\n",
       " 'std_score_time': array([0.0017372 , 0.00079486, 0.0007977 , 0.0013222 , 0.00039781,\n",
       "        0.00438981]),\n",
       " 'param_C': masked_array(data=[0.1, 0.1, 1, 1, 10, 10],\n",
       "              mask=[False, False, False, False, False, False],\n",
       "        fill_value='?',\n",
       "             dtype=object),\n",
       " 'param_kernel': masked_array(data=['linear', 'rbf', 'linear', 'rbf', 'linear', 'rbf'],\n",
       "              mask=[False, False, False, False, False, False],\n",
       "        fill_value='?',\n",
       "             dtype=object),\n",
       " 'params': [{'C': 0.1, 'kernel': 'linear'},\n",
       "  {'C': 0.1, 'kernel': 'rbf'},\n",
       "  {'C': 1, 'kernel': 'linear'},\n",
       "  {'C': 1, 'kernel': 'rbf'},\n",
       "  {'C': 10, 'kernel': 'linear'},\n",
       "  {'C': 10, 'kernel': 'rbf'}],\n",
       " 'split0_test_score': array([0.95238095, 0.9047619 , 0.95238095, 0.95238095, 0.9047619 ,\n",
       "        0.9047619 ]),\n",
       " 'split1_test_score': array([0.9047619 , 0.85714286, 0.95238095, 0.95238095, 0.95238095,\n",
       "        0.95238095]),\n",
       " 'split2_test_score': array([1.        , 0.85714286, 1.        , 1.        , 1.        ,\n",
       "        1.        ]),\n",
       " 'split3_test_score': array([1.        , 0.95238095, 0.95238095, 0.95238095, 0.95238095,\n",
       "        0.95238095]),\n",
       " 'split4_test_score': array([1.        , 0.85714286, 1.        , 1.        , 0.95238095,\n",
       "        1.        ]),\n",
       " 'mean_test_score': array([0.97142857, 0.88571429, 0.97142857, 0.97142857, 0.95238095,\n",
       "        0.96190476]),\n",
       " 'std_test_score': array([0.03809524, 0.03809524, 0.02332847, 0.02332847, 0.03011693,\n",
       "        0.03563483]),\n",
       " 'rank_test_score': array([1, 6, 2, 2, 5, 4])}"
      ]
     },
     "execution_count": 17,
     "metadata": {},
     "output_type": "execute_result"
    }
   ],
   "source": [
    "grid_search.cv_results_"
   ]
  },
  {
   "cell_type": "code",
   "execution_count": null,
   "metadata": {},
   "outputs": [],
   "source": []
  },
  {
   "cell_type": "code",
   "execution_count": null,
   "metadata": {},
   "outputs": [],
   "source": []
  },
  {
   "cell_type": "code",
   "execution_count": 19,
   "metadata": {},
   "outputs": [
    {
     "data": {
      "text/plain": [
       "RandomizedSearchCV(cv=5, estimator=SVC(),\n",
       "                   param_distributions={'C': [0.1, 1, 10],\n",
       "                                        'gamma': ['auto', 'scale'],\n",
       "                                        'kernel': ['linear', 'rbf']})"
      ]
     },
     "execution_count": 19,
     "metadata": {},
     "output_type": "execute_result"
    }
   ],
   "source": [
    "from sklearn.model_selection import RandomizedSearchCV\n",
    "param_dist = {'C': [0.1, 1, 10], 'kernel': ['linear', 'rbf'], \"gamma\": [\"auto\", \"scale\"]}\n",
    "random_search = RandomizedSearchCV(SVC(), param_dist, n_iter=10, cv=5)\n",
    "random_search.fit(X_train_scaled, y_train)"
   ]
  },
  {
   "cell_type": "code",
   "execution_count": 20,
   "metadata": {},
   "outputs": [
    {
     "data": {
      "text/plain": [
       "{'kernel': 'linear', 'gamma': 'auto', 'C': 0.1}"
      ]
     },
     "execution_count": 20,
     "metadata": {},
     "output_type": "execute_result"
    }
   ],
   "source": [
    "random_search.best_params_"
   ]
  },
  {
   "cell_type": "code",
   "execution_count": 21,
   "metadata": {},
   "outputs": [
    {
     "data": {
      "text/plain": [
       "{'mean_fit_time': array([0.00418987, 0.00319538, 0.00538359, 0.01236711, 0.01236591,\n",
       "        0.01815   , 0.00219574, 0.00439067, 0.00259218, 0.00977383]),\n",
       " 'std_fit_time': array([0.00438707, 0.00115883, 0.00482708, 0.01517219, 0.01458619,\n",
       "        0.0193824 , 0.00116571, 0.00402123, 0.00079696, 0.01655731]),\n",
       " 'mean_score_time': array([0.00099649, 0.00099602, 0.00339141, 0.00219584, 0.00358872,\n",
       "        0.00160017, 0.001197  , 0.00199471, 0.00099778, 0.006183  ]),\n",
       " 'std_score_time': array([7.32531142e-07, 1.25946736e-03, 3.37567645e-03, 1.93602635e-03,\n",
       "        3.81405459e-03, 1.02131076e-03, 7.46640015e-04, 2.52082570e-03,\n",
       "        8.92443590e-04, 6.35166800e-03]),\n",
       " 'param_kernel': masked_array(data=['rbf', 'linear', 'rbf', 'rbf', 'rbf', 'rbf', 'linear',\n",
       "                    'linear', 'rbf', 'linear'],\n",
       "              mask=[False, False, False, False, False, False, False, False,\n",
       "                    False, False],\n",
       "        fill_value='?',\n",
       "             dtype=object),\n",
       " 'param_gamma': masked_array(data=['scale', 'auto', 'auto', 'auto', 'scale', 'scale',\n",
       "                    'scale', 'scale', 'auto', 'auto'],\n",
       "              mask=[False, False, False, False, False, False, False, False,\n",
       "                    False, False],\n",
       "        fill_value='?',\n",
       "             dtype=object),\n",
       " 'param_C': masked_array(data=[1, 0.1, 0.1, 10, 10, 0.1, 0.1, 10, 1, 1],\n",
       "              mask=[False, False, False, False, False, False, False, False,\n",
       "                    False, False],\n",
       "        fill_value='?',\n",
       "             dtype=object),\n",
       " 'params': [{'kernel': 'rbf', 'gamma': 'scale', 'C': 1},\n",
       "  {'kernel': 'linear', 'gamma': 'auto', 'C': 0.1},\n",
       "  {'kernel': 'rbf', 'gamma': 'auto', 'C': 0.1},\n",
       "  {'kernel': 'rbf', 'gamma': 'auto', 'C': 10},\n",
       "  {'kernel': 'rbf', 'gamma': 'scale', 'C': 10},\n",
       "  {'kernel': 'rbf', 'gamma': 'scale', 'C': 0.1},\n",
       "  {'kernel': 'linear', 'gamma': 'scale', 'C': 0.1},\n",
       "  {'kernel': 'linear', 'gamma': 'scale', 'C': 10},\n",
       "  {'kernel': 'rbf', 'gamma': 'auto', 'C': 1},\n",
       "  {'kernel': 'linear', 'gamma': 'auto', 'C': 1}],\n",
       " 'split0_test_score': array([0.95238095, 0.95238095, 0.9047619 , 0.9047619 , 0.9047619 ,\n",
       "        0.9047619 , 0.95238095, 0.9047619 , 0.95238095, 0.95238095]),\n",
       " 'split1_test_score': array([0.95238095, 0.9047619 , 0.85714286, 0.95238095, 0.95238095,\n",
       "        0.85714286, 0.9047619 , 0.95238095, 0.95238095, 0.95238095]),\n",
       " 'split2_test_score': array([1.        , 1.        , 0.85714286, 1.        , 1.        ,\n",
       "        0.85714286, 1.        , 1.        , 1.        , 1.        ]),\n",
       " 'split3_test_score': array([0.95238095, 1.        , 0.95238095, 0.95238095, 0.95238095,\n",
       "        0.95238095, 1.        , 0.95238095, 0.95238095, 0.95238095]),\n",
       " 'split4_test_score': array([1.        , 1.        , 0.85714286, 1.        , 1.        ,\n",
       "        0.85714286, 1.        , 0.95238095, 1.        , 1.        ]),\n",
       " 'mean_test_score': array([0.97142857, 0.97142857, 0.88571429, 0.96190476, 0.96190476,\n",
       "        0.88571429, 0.97142857, 0.95238095, 0.97142857, 0.97142857]),\n",
       " 'std_test_score': array([0.02332847, 0.03809524, 0.03809524, 0.03563483, 0.03563483,\n",
       "        0.03809524, 0.03809524, 0.03011693, 0.02332847, 0.02332847]),\n",
       " 'rank_test_score': array([3, 1, 9, 6, 6, 9, 1, 8, 3, 3])}"
      ]
     },
     "execution_count": 21,
     "metadata": {},
     "output_type": "execute_result"
    }
   ],
   "source": [
    "random_search.cv_results_"
   ]
  },
  {
   "cell_type": "code",
   "execution_count": 22,
   "metadata": {},
   "outputs": [],
   "source": [
    "from imblearn.over_sampling import RandomOverSampler\n",
    "ros = RandomOverSampler(sampling_strategy='minority')\n",
    "X_resampled, y_resampled = ros.fit_resample(X_train, y_train)"
   ]
  },
  {
   "cell_type": "code",
   "execution_count": null,
   "metadata": {},
   "outputs": [],
   "source": []
  }
 ],
 "metadata": {
  "kernelspec": {
   "display_name": "base",
   "language": "python",
   "name": "python3"
  },
  "language_info": {
   "codemirror_mode": {
    "name": "ipython",
    "version": 3
   },
   "file_extension": ".py",
   "mimetype": "text/x-python",
   "name": "python",
   "nbconvert_exporter": "python",
   "pygments_lexer": "ipython3",
   "version": "3.9.13"
  },
  "orig_nbformat": 4
 },
 "nbformat": 4,
 "nbformat_minor": 2
}
